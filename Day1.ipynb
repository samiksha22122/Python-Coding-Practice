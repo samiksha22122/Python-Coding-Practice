{
 "cells": [
  {
   "cell_type": "markdown",
   "metadata": {},
   "source": [
    "Q.1. Write a Python function to calculate the sum of all integers from 0 to ( n-1 )."
   ]
  },
  {
   "cell_type": "code",
   "execution_count": 6,
   "metadata": {},
   "outputs": [
    {
     "data": {
      "text/plain": [
       "36"
      ]
     },
     "execution_count": 6,
     "metadata": {},
     "output_type": "execute_result"
    }
   ],
   "source": [
    "def sum(x):\n",
    "  s=0\n",
    "  for i in range(0,x-1):\n",
    "    s+=i\n",
    "  return s\n",
    "sum(10)"
   ]
  },
  {
   "cell_type": "markdown",
   "metadata": {},
   "source": [
    "Q.2. Write a Python program to extract and print all the characters at even indices from the string 'pythonanddatascience'"
   ]
  },
  {
   "cell_type": "code",
   "execution_count": 7,
   "metadata": {},
   "outputs": [
    {
     "data": {
      "text/plain": [
       "'ptoadaacec'"
      ]
     },
     "execution_count": 7,
     "metadata": {},
     "output_type": "execute_result"
    }
   ],
   "source": [
    "def s(x):\n",
    "  char_at_even_indices=''\n",
    "  for i in range(len(x)):\n",
    "    if i%2==0:\n",
    "      char_at_even_indices+=x[i]\n",
    "  return char_at_even_indices\n",
    "s('pythonanddatascience')"
   ]
  },
  {
   "cell_type": "markdown",
   "metadata": {},
   "source": [
    "Q.3. Flatten a nested list"
   ]
  },
  {
   "cell_type": "code",
   "execution_count": 8,
   "metadata": {},
   "outputs": [
    {
     "data": {
      "text/plain": [
       "[1, 2, 3, 4, 5, 6, 3, 4, 5]"
      ]
     },
     "execution_count": 8,
     "metadata": {},
     "output_type": "execute_result"
    }
   ],
   "source": [
    "def flatten(x):\n",
    "  flatten_list=[]\n",
    "  for i in x:\n",
    "    if isinstance(i,list):\n",
    "      flatten_list.extend(flatten(i))\n",
    "    else:\n",
    "      flatten_list.append(i)\n",
    "  return flatten_list\n",
    "flatten([1,2,3,[4,5,6,[3,4,5]]])"
   ]
  },
  {
   "cell_type": "markdown",
   "metadata": {},
   "source": [
    "Q.4. Draw a Star Pattern"
   ]
  },
  {
   "cell_type": "code",
   "execution_count": 9,
   "metadata": {},
   "outputs": [
    {
     "name": "stdout",
     "output_type": "stream",
     "text": [
      " *\n",
      " * *\n",
      " * * *\n",
      " * * * *\n",
      " * * * * *\n"
     ]
    }
   ],
   "source": [
    "for i in range(1,6):\n",
    "  print(\" *\"*i)"
   ]
  }
 ],
 "metadata": {
  "kernelspec": {
   "display_name": "Python 3",
   "language": "python",
   "name": "python3"
  },
  "language_info": {
   "codemirror_mode": {
    "name": "ipython",
    "version": 3
   },
   "file_extension": ".py",
   "mimetype": "text/x-python",
   "name": "python",
   "nbconvert_exporter": "python",
   "pygments_lexer": "ipython3",
   "version": "3.11.9"
  }
 },
 "nbformat": 4,
 "nbformat_minor": 2
}
