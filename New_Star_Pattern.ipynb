{
  "nbformat": 4,
  "nbformat_minor": 0,
  "metadata": {
    "colab": {
      "provenance": []
    },
    "kernelspec": {
      "name": "python3",
      "display_name": "Python 3"
    },
    "language_info": {
      "name": "python"
    }
  },
  "cells": [
    {
      "cell_type": "code",
      "source": [
        "for i in range(5):    #0         1       2        3           4\n",
        "  for j in range(1):  #01234   01234   01234    01234      01234\n",
        "    print(i,j)"
      ],
      "metadata": {
        "colab": {
          "base_uri": "https://localhost:8080/"
        },
        "id": "Uc2G9z-yqDHA",
        "outputId": "b37eb5f7-23cc-4ab1-f255-7fac52b73210"
      },
      "execution_count": 12,
      "outputs": [
        {
          "output_type": "stream",
          "name": "stdout",
          "text": [
            "0 0\n",
            "1 0\n",
            "2 0\n",
            "3 0\n",
            "4 0\n"
          ]
        }
      ]
    },
    {
      "cell_type": "code",
      "source": [
        "for i in range(5):    #0         1       2        3           4\n",
        "  for j in range(2):  #01234   01234   01234    01234      01234\n",
        "    print(i,j)"
      ],
      "metadata": {
        "colab": {
          "base_uri": "https://localhost:8080/"
        },
        "id": "hQdhWkcJp-Q6",
        "outputId": "c37fec21-39bf-464e-8337-abe0fb805669"
      },
      "execution_count": 11,
      "outputs": [
        {
          "output_type": "stream",
          "name": "stdout",
          "text": [
            "0 0\n",
            "0 1\n",
            "1 0\n",
            "1 1\n",
            "2 0\n",
            "2 1\n",
            "3 0\n",
            "3 1\n",
            "4 0\n",
            "4 1\n"
          ]
        }
      ]
    },
    {
      "cell_type": "code",
      "source": [
        "for i in range(5):    #0         1       2        3           4\n",
        "  for j in range(3):  #01234   01234   01234    01234      01234\n",
        "    print(i,j)"
      ],
      "metadata": {
        "colab": {
          "base_uri": "https://localhost:8080/"
        },
        "id": "3VhDHj90qFEQ",
        "outputId": "3713fb1c-16f0-4e1e-c7f9-49de10ad1ac6"
      },
      "execution_count": 13,
      "outputs": [
        {
          "output_type": "stream",
          "name": "stdout",
          "text": [
            "0 0\n",
            "0 1\n",
            "0 2\n",
            "1 0\n",
            "1 1\n",
            "1 2\n",
            "2 0\n",
            "2 1\n",
            "2 2\n",
            "3 0\n",
            "3 1\n",
            "3 2\n",
            "4 0\n",
            "4 1\n",
            "4 2\n"
          ]
        }
      ]
    },
    {
      "cell_type": "code",
      "source": [
        "for i in range(5):    #0         1       2        3           4\n",
        "  for j in range(4):  #01234   01234   01234    01234      01234\n",
        "    print(i,j)"
      ],
      "metadata": {
        "colab": {
          "base_uri": "https://localhost:8080/"
        },
        "id": "OK8tKWzkqGeI",
        "outputId": "50c87cbe-bb36-41f1-86a4-ccd74358bc25"
      },
      "execution_count": 14,
      "outputs": [
        {
          "output_type": "stream",
          "name": "stdout",
          "text": [
            "0 0\n",
            "0 1\n",
            "0 2\n",
            "0 3\n",
            "1 0\n",
            "1 1\n",
            "1 2\n",
            "1 3\n",
            "2 0\n",
            "2 1\n",
            "2 2\n",
            "2 3\n",
            "3 0\n",
            "3 1\n",
            "3 2\n",
            "3 3\n",
            "4 0\n",
            "4 1\n",
            "4 2\n",
            "4 3\n"
          ]
        }
      ]
    },
    {
      "cell_type": "code",
      "source": [
        "for i in range(5):    #0         1       2        3           4\n",
        "  for j in range(5):  #01234   01234   01234    01234      01234\n",
        "    print(i,j)"
      ],
      "metadata": {
        "colab": {
          "base_uri": "https://localhost:8080/"
        },
        "id": "dbbsxnpJpU_8",
        "outputId": "1963e3b0-61d2-47c9-f1de-3df15da924ee"
      },
      "execution_count": 10,
      "outputs": [
        {
          "output_type": "stream",
          "name": "stdout",
          "text": [
            "0 0\n",
            "0 1\n",
            "0 2\n",
            "0 3\n",
            "0 4\n",
            "1 0\n",
            "1 1\n",
            "1 2\n",
            "1 3\n",
            "1 4\n",
            "2 0\n",
            "2 1\n",
            "2 2\n",
            "2 3\n",
            "2 4\n",
            "3 0\n",
            "3 1\n",
            "3 2\n",
            "3 3\n",
            "3 4\n",
            "4 0\n",
            "4 1\n",
            "4 2\n",
            "4 3\n",
            "4 4\n"
          ]
        }
      ]
    },
    {
      "cell_type": "code",
      "source": [
        "for i in range(5):       #  1  2   3    4\n",
        "  for j in range(i):     #  0  01  012  0123\n",
        "    print(i,j)"
      ],
      "metadata": {
        "colab": {
          "base_uri": "https://localhost:8080/"
        },
        "id": "z7F24RZvuGMZ",
        "outputId": "0c391b30-d0a7-4902-d8a9-831a4db01ecb"
      },
      "execution_count": 45,
      "outputs": [
        {
          "output_type": "stream",
          "name": "stdout",
          "text": [
            "1 0\n",
            "2 0\n",
            "2 1\n",
            "3 0\n",
            "3 1\n",
            "3 2\n",
            "4 0\n",
            "4 1\n",
            "4 2\n",
            "4 3\n"
          ]
        }
      ]
    },
    {
      "cell_type": "code",
      "source": [
        "for i in range(5):    #0         1       2        3           4\n",
        "  for j in range(i):  #01234   01234   01234    01234      01234\n",
        "    print(i,j)"
      ],
      "metadata": {
        "id": "2G0AfoTjujOR"
      },
      "execution_count": null,
      "outputs": []
    },
    {
      "cell_type": "code",
      "source": [
        "for i in range(1):\n",
        "  for j in range(5):\n",
        "    print(i,j)"
      ],
      "metadata": {
        "colab": {
          "base_uri": "https://localhost:8080/"
        },
        "collapsed": true,
        "id": "nkYTUhu2qfJo",
        "outputId": "c2a1fbd9-0c0e-4bcc-9011-4631ce01319b"
      },
      "execution_count": 16,
      "outputs": [
        {
          "output_type": "stream",
          "name": "stdout",
          "text": [
            "0 0\n",
            "0 1\n",
            "0 2\n",
            "0 3\n",
            "0 4\n"
          ]
        }
      ]
    },
    {
      "cell_type": "code",
      "source": [
        "for i in range(2):\n",
        "  for j in range(5):\n",
        "    print(i,j)"
      ],
      "metadata": {
        "colab": {
          "base_uri": "https://localhost:8080/"
        },
        "id": "7dAccC8UrBPQ",
        "outputId": "525e43fe-1440-431d-af66-8d7519d23fe1"
      },
      "execution_count": 17,
      "outputs": [
        {
          "output_type": "stream",
          "name": "stdout",
          "text": [
            "0 0\n",
            "0 1\n",
            "0 2\n",
            "0 3\n",
            "0 4\n",
            "1 0\n",
            "1 1\n",
            "1 2\n",
            "1 3\n",
            "1 4\n"
          ]
        }
      ]
    },
    {
      "cell_type": "code",
      "source": [
        "for i in range(3):\n",
        "  for j in range(3):\n",
        "    print(i,j)"
      ],
      "metadata": {
        "colab": {
          "base_uri": "https://localhost:8080/"
        },
        "id": "wMfSRH9TrP_4",
        "outputId": "e1070fad-d7d7-4878-b50f-75299b181aaa"
      },
      "execution_count": 19,
      "outputs": [
        {
          "output_type": "stream",
          "name": "stdout",
          "text": [
            "0 0\n",
            "0 1\n",
            "0 2\n",
            "1 0\n",
            "1 1\n",
            "1 2\n",
            "2 0\n",
            "2 1\n",
            "2 2\n"
          ]
        }
      ]
    },
    {
      "cell_type": "code",
      "source": [
        "for i in range(5):\n",
        "  for j in range(1):\n",
        "    print(i,j)"
      ],
      "metadata": {
        "colab": {
          "base_uri": "https://localhost:8080/"
        },
        "id": "BLEW92dErW_I",
        "outputId": "0ac4cf63-379c-4bd5-d65c-6cc3788e4854"
      },
      "execution_count": 20,
      "outputs": [
        {
          "output_type": "stream",
          "name": "stdout",
          "text": [
            "0 0\n",
            "1 0\n",
            "2 0\n",
            "3 0\n",
            "4 0\n"
          ]
        }
      ]
    },
    {
      "cell_type": "code",
      "source": [
        "for i in range(5):    #0         1       2        3           4\n",
        "  for j in range(5):  #01234   01234   01234    01234      01234\n",
        "    print(i,j)"
      ],
      "metadata": {
        "id": "yfsZgv4AqCn4"
      },
      "execution_count": null,
      "outputs": []
    },
    {
      "cell_type": "code",
      "source": [
        "for i in range(5):\n",
        "  for j in range(1):\n",
        "    print(i)"
      ],
      "metadata": {
        "colab": {
          "base_uri": "https://localhost:8080/"
        },
        "id": "dsiQJ_FTpEES",
        "outputId": "3e41bcae-24db-4d42-a9a7-17e9df783d07"
      },
      "execution_count": 8,
      "outputs": [
        {
          "output_type": "stream",
          "name": "stdout",
          "text": [
            "0\n",
            "1\n",
            "2\n",
            "3\n",
            "4\n"
          ]
        }
      ]
    },
    {
      "cell_type": "code",
      "source": [
        "for i in range(5):\n",
        "  for i in range(3):\n",
        "    print(i,j)"
      ],
      "metadata": {
        "id": "LJ1_-QrXpHOI"
      },
      "execution_count": null,
      "outputs": []
    },
    {
      "cell_type": "code",
      "source": [
        "01\n",
        "02\n",
        "03\n",
        "11\n",
        "12\n",
        "13\n",
        "21\n",
        "22\n",
        "23\n",
        "31\n",
        "32\n",
        "33\n",
        "41\n",
        "42\n",
        "43"
      ],
      "metadata": {
        "id": "QtacuQ-6pS3K"
      },
      "execution_count": null,
      "outputs": []
    },
    {
      "cell_type": "code",
      "source": [
        "for i in range(5):\n",
        "  for j in range(5):\n",
        "    print('#',end=' ')\n",
        "  print()"
      ],
      "metadata": {
        "colab": {
          "base_uri": "https://localhost:8080/"
        },
        "id": "njCpF7VHpTei",
        "outputId": "3d3d831f-722d-4529-e723-5695e2970ac1"
      },
      "execution_count": 27,
      "outputs": [
        {
          "output_type": "stream",
          "name": "stdout",
          "text": [
            "# # # # # \n",
            "# # # # # \n",
            "# # # # # \n",
            "# # # # # \n",
            "# # # # # \n"
          ]
        }
      ]
    },
    {
      "cell_type": "code",
      "source": [
        "for i in range(5):\n",
        "  print(' #'*5)"
      ],
      "metadata": {
        "colab": {
          "base_uri": "https://localhost:8080/"
        },
        "id": "-iULPhaLpTZ3",
        "outputId": "f226d1f1-eff0-400c-c387-248f3ee9a560"
      },
      "execution_count": 31,
      "outputs": [
        {
          "output_type": "stream",
          "name": "stdout",
          "text": [
            " # # # # #\n",
            " # # # # #\n",
            " # # # # #\n",
            " # # # # #\n",
            " # # # # #\n"
          ]
        }
      ]
    },
    {
      "cell_type": "code",
      "source": [
        "#\n",
        "# #\n",
        "# # #\n",
        "# # # #\n",
        "# # # # #"
      ],
      "metadata": {
        "id": "Q3026sgcpTXn"
      },
      "execution_count": null,
      "outputs": []
    },
    {
      "cell_type": "code",
      "source": [
        "for i in range(1,6):\n",
        "  for j in range(1):\n",
        "    print(' #'*i)"
      ],
      "metadata": {
        "colab": {
          "base_uri": "https://localhost:8080/"
        },
        "id": "YCrYbhRWpTVK",
        "outputId": "61827069-7652-4c36-b7ab-33400cb1f0a3"
      },
      "execution_count": 35,
      "outputs": [
        {
          "output_type": "stream",
          "name": "stdout",
          "text": [
            " #\n",
            " # #\n",
            " # # #\n",
            " # # # #\n",
            " # # # # #\n"
          ]
        }
      ]
    },
    {
      "cell_type": "code",
      "source": [
        "for i in range(6):\n",
        "  for j in range(i):\n",
        "    print(j)"
      ],
      "metadata": {
        "colab": {
          "base_uri": "https://localhost:8080/"
        },
        "id": "DMOoTZb8vDV5",
        "outputId": "19598738-44cb-4c4c-f380-25cb1eae235a"
      },
      "execution_count": 47,
      "outputs": [
        {
          "output_type": "stream",
          "name": "stdout",
          "text": [
            "0\n",
            "0\n",
            "1\n",
            "0\n",
            "1\n",
            "2\n",
            "0\n",
            "1\n",
            "2\n",
            "3\n",
            "0\n",
            "1\n",
            "2\n",
            "3\n",
            "4\n"
          ]
        }
      ]
    },
    {
      "cell_type": "code",
      "source": [
        "# 0\n",
        "# 0 1\n",
        "# 0 1 2\n",
        "# 0 1 2 3\n",
        "# 0 1 2 3 4"
      ],
      "metadata": {
        "id": "wJtBH7GspTSa"
      },
      "execution_count": 36,
      "outputs": []
    },
    {
      "cell_type": "code",
      "source": [
        "for i in range(1,6):      #0 1 2 3 4 5\n",
        "  for j in range(i):\n",
        "    print(j,end=' ')\n",
        "  print()"
      ],
      "metadata": {
        "colab": {
          "base_uri": "https://localhost:8080/"
        },
        "id": "50ssYYj9s3Pd",
        "outputId": "3ee7ed30-97e3-4a0b-d73e-b4a81c45adcd"
      },
      "execution_count": 55,
      "outputs": [
        {
          "output_type": "stream",
          "name": "stdout",
          "text": [
            "0 \n",
            "0 1 \n",
            "0 1 2 \n",
            "0 1 2 3 \n",
            "0 1 2 3 4 \n"
          ]
        }
      ]
    },
    {
      "cell_type": "code",
      "source": [
        "# 1\n",
        "# 1 2\n",
        "# 1 2 3\n",
        "# 1 2 3 4\n",
        "# 1 2 3 4 5"
      ],
      "metadata": {
        "id": "g74kOoR4tWhi"
      },
      "execution_count": 58,
      "outputs": []
    },
    {
      "cell_type": "code",
      "source": [
        "for i in range(1,6):\n",
        "  for j in range(1,i+1):\n",
        "    print(j,end=' ')\n",
        "  print()"
      ],
      "metadata": {
        "colab": {
          "base_uri": "https://localhost:8080/"
        },
        "id": "ziXW4_Z4tqf0",
        "outputId": "6c10dca3-ebf0-49c3-c751-41552167aaec"
      },
      "execution_count": 64,
      "outputs": [
        {
          "output_type": "stream",
          "name": "stdout",
          "text": [
            "1 \n",
            "1 2 \n",
            "1 2 3 \n",
            "1 2 3 4 \n",
            "1 2 3 4 5 \n"
          ]
        }
      ]
    },
    {
      "cell_type": "code",
      "source": [
        "# 1\n",
        "# 2 3\n",
        "# 4 5 6\n",
        "# 7 8 9 10"
      ],
      "metadata": {
        "id": "Vh0IjjeGtqcb"
      },
      "execution_count": null,
      "outputs": []
    },
    {
      "cell_type": "code",
      "source": [
        "for i in range(1,6):\n",
        "  for j in range(1,i+1):\n",
        "    print(j,end=' ')\n",
        "  print()"
      ],
      "metadata": {
        "colab": {
          "base_uri": "https://localhost:8080/"
        },
        "id": "0C7F9Gcvwc_B",
        "outputId": "0ecea893-dba6-4dad-eccf-e04e8f3733e7"
      },
      "execution_count": 76,
      "outputs": [
        {
          "output_type": "stream",
          "name": "stdout",
          "text": [
            "1 \n",
            "1 2 \n",
            "1 2 3 \n",
            "1 2 3 4 \n",
            "1 2 3 4 5 \n"
          ]
        }
      ]
    },
    {
      "cell_type": "code",
      "source": [
        "k=0\n",
        "for i in range(5):\n",
        "  for j in range(1,i+1):\n",
        "    print(j,end=' ')\n",
        "    #k+=1\n",
        "  print()"
      ],
      "metadata": {
        "colab": {
          "base_uri": "https://localhost:8080/"
        },
        "id": "uUzTOR76tqZv",
        "outputId": "f929dd72-d290-4938-da86-320016ed11f8"
      },
      "execution_count": 101,
      "outputs": [
        {
          "output_type": "stream",
          "name": "stdout",
          "text": [
            "\n",
            "1 \n",
            "1 2 \n",
            "1 2 3 \n",
            "1 2 3 4 \n"
          ]
        }
      ]
    },
    {
      "cell_type": "code",
      "source": [
        "k=1\n",
        "for i in range(1,5):\n",
        "  for j in range(i):\n",
        "    print(k,end=' ')\n",
        "    k+=1\n",
        "  print()"
      ],
      "metadata": {
        "colab": {
          "base_uri": "https://localhost:8080/"
        },
        "id": "1co_SHAstqW3",
        "outputId": "0748bdad-29df-4a51-b74b-e70f44d5bd6f"
      },
      "execution_count": 104,
      "outputs": [
        {
          "output_type": "stream",
          "name": "stdout",
          "text": [
            "1 \n",
            "2 3 \n",
            "4 5 6 \n",
            "7 8 9 10 \n"
          ]
        }
      ]
    },
    {
      "cell_type": "code",
      "source": [
        "# A A A A A\n",
        "# A A A A A\n",
        "# A A A A A\n",
        "# A A A A A\n",
        "# A A A A A\n",
        "\n",
        "for i in range(5):\n",
        "  for j in range(5):\n",
        "    print('A',end=' ')\n",
        "  print()"
      ],
      "metadata": {
        "colab": {
          "base_uri": "https://localhost:8080/"
        },
        "id": "RLDyXiGytqTv",
        "outputId": "bf750d8c-1098-419a-ab1e-029cd6fab8ee"
      },
      "execution_count": 106,
      "outputs": [
        {
          "output_type": "stream",
          "name": "stdout",
          "text": [
            "A A A A A \n",
            "A A A A A \n",
            "A A A A A \n",
            "A A A A A \n",
            "A A A A A \n"
          ]
        }
      ]
    },
    {
      "cell_type": "code",
      "source": [
        "# * * * * *\n",
        "# * * * *\n",
        "# * * *\n",
        "# * *\n",
        "# *"
      ],
      "metadata": {
        "id": "LITGguIwtqRG"
      },
      "execution_count": null,
      "outputs": []
    },
    {
      "cell_type": "code",
      "source": [
        "for i in range(5,0,-1):\n",
        "  for j in range(i):\n",
        "    print('*',end=' ')\n",
        "  print()"
      ],
      "metadata": {
        "colab": {
          "base_uri": "https://localhost:8080/"
        },
        "id": "4JQ1_TZstqOW",
        "outputId": "8a8a098e-3981-4aef-aa5b-b542a601b3a3"
      },
      "execution_count": 107,
      "outputs": [
        {
          "output_type": "stream",
          "name": "stdout",
          "text": [
            "* * * * * \n",
            "* * * * \n",
            "* * * \n",
            "* * \n",
            "* \n"
          ]
        }
      ]
    },
    {
      "cell_type": "code",
      "source": [
        "for i in range(1,6):\n",
        "  for j in range(6-i):\n",
        "    print('*',end=' ')\n",
        "  print()"
      ],
      "metadata": {
        "colab": {
          "base_uri": "https://localhost:8080/"
        },
        "id": "3h02_CQF3VGF",
        "outputId": "9d77dc78-2a76-4fa2-981c-ada2ef970662"
      },
      "execution_count": 125,
      "outputs": [
        {
          "output_type": "stream",
          "name": "stdout",
          "text": [
            "* * * * * \n",
            "* * * * \n",
            "* * * \n",
            "* * \n",
            "* \n"
          ]
        }
      ]
    },
    {
      "cell_type": "code",
      "source": [
        "n= 6\n",
        "for i in range(1,n):\n",
        "  for j in range(n-i):\n",
        "    print(\"*\",end= ' ')\n",
        "  print()"
      ],
      "metadata": {
        "colab": {
          "base_uri": "https://localhost:8080/"
        },
        "id": "rwM7rJia5A6x",
        "outputId": "5c9c3536-3e34-4b59-eb87-a4175312e872"
      },
      "execution_count": 126,
      "outputs": [
        {
          "output_type": "stream",
          "name": "stdout",
          "text": [
            "* * * * * \n",
            "* * * * \n",
            "* * * \n",
            "* * \n",
            "* \n"
          ]
        }
      ]
    },
    {
      "cell_type": "code",
      "source": [
        "for i in range(1,6):      #0 1 2 3 4 5\n",
        "  for j in range(i):\n",
        "    print('*',end=' ')\n",
        "  print()"
      ],
      "metadata": {
        "colab": {
          "base_uri": "https://localhost:8080/"
        },
        "id": "J-weiCP83VAV",
        "outputId": "a566736b-a16f-4f31-84d0-e90db069b1ec"
      },
      "execution_count": 127,
      "outputs": [
        {
          "output_type": "stream",
          "name": "stdout",
          "text": [
            "* \n",
            "* * \n",
            "* * * \n",
            "* * * * \n",
            "* * * * * \n"
          ]
        }
      ]
    },
    {
      "cell_type": "code",
      "source": [
        "# * * * * *\n",
        "# * * * *\n",
        "# * * *\n",
        "# * *\n",
        "# *\n",
        "# *\n",
        "# * *\n",
        "# * * *\n",
        "# * * * *\n",
        "# * * * * *"
      ],
      "metadata": {
        "id": "o8gphkJw3U94"
      },
      "execution_count": null,
      "outputs": []
    },
    {
      "cell_type": "code",
      "source": [
        "n= 6\n",
        "for i in range(1,n):\n",
        "  for j in range(n-i):\n",
        "    print(\"*\",end= ' ')\n",
        "  print()\n",
        "for i in range(1,6):      #0 1 2 3 4 5\n",
        "  for j in range(i):\n",
        "    print('*',end=' ')\n",
        "  print()"
      ],
      "metadata": {
        "colab": {
          "base_uri": "https://localhost:8080/"
        },
        "id": "qbrUc9Tk3U7O",
        "outputId": "fd5e95c4-462d-4544-83b1-a66dc24c419c"
      },
      "execution_count": 132,
      "outputs": [
        {
          "output_type": "stream",
          "name": "stdout",
          "text": [
            "* * * * * \n",
            "* * * * \n",
            "* * * \n",
            "* * \n",
            "* \n",
            "* \n",
            "* * \n",
            "* * * \n",
            "* * * * \n",
            "* * * * * \n"
          ]
        }
      ]
    },
    {
      "cell_type": "code",
      "source": [
        "n= 6\n",
        "for i in range(1,n):\n",
        "  for j in range(i):\n",
        "    print(\"*\",end= ' ')\n",
        "  print()"
      ],
      "metadata": {
        "colab": {
          "base_uri": "https://localhost:8080/"
        },
        "id": "U1vXbPgA5dI6",
        "outputId": "eff56291-1d0e-42b4-d165-57ce8eda6e6f"
      },
      "execution_count": 170,
      "outputs": [
        {
          "output_type": "stream",
          "name": "stdout",
          "text": [
            "* \n",
            "* * \n",
            "* * * \n",
            "* * * * \n",
            "* * * * * \n"
          ]
        }
      ]
    },
    {
      "cell_type": "code",
      "source": [
        "1 *\n",
        "2 *\n",
        "2 *\n",
        "3 *\n",
        "3 *\n",
        "3 *\n",
        "4 *\n",
        "4 *\n",
        "4 *\n",
        "4 *"
      ],
      "metadata": {
        "id": "dd-fnbnlEDKD"
      },
      "execution_count": 173,
      "outputs": []
    },
    {
      "cell_type": "code",
      "source": [
        "for i in range(5):\n",
        "  for j in range(i):\n",
        "    print(i,'*',end=' ')\n",
        "  print()"
      ],
      "metadata": {
        "colab": {
          "base_uri": "https://localhost:8080/"
        },
        "id": "nVCRzGsQJt34",
        "outputId": "568a2598-a344-413a-8214-7bbaa31b2e8a"
      },
      "execution_count": 215,
      "outputs": [
        {
          "output_type": "stream",
          "name": "stdout",
          "text": [
            "\n",
            "1 * \n",
            "2 * 2 * \n",
            "3 * 3 * 3 * \n",
            "4 * 4 * 4 * 4 * \n"
          ]
        }
      ]
    },
    {
      "cell_type": "code",
      "source": [
        "for i in range(5):\n",
        "  for j in range(5-i):\n",
        "    print(' ',end=' ')\n",
        "  print('hi'*i)"
      ],
      "metadata": {
        "colab": {
          "base_uri": "https://localhost:8080/"
        },
        "id": "l11SAQRYKKGU",
        "outputId": "0fb4e779-19a3-4032-f01f-ad19069ca1a6"
      },
      "execution_count": 225,
      "outputs": [
        {
          "output_type": "stream",
          "name": "stdout",
          "text": [
            "          \n",
            "        hi\n",
            "      hihi\n",
            "    hihihi\n",
            "  hihihihi\n"
          ]
        }
      ]
    },
    {
      "cell_type": "code",
      "source": [
        "for i in range(5):\n",
        "  for j in range(5-i):\n",
        "    print(i,'*')\n",
        "  #print()"
      ],
      "metadata": {
        "colab": {
          "base_uri": "https://localhost:8080/"
        },
        "id": "_xY_7GI-EQ-z",
        "outputId": "3c55d9c7-bd66-4010-bffe-8ff7a06bd8c2"
      },
      "execution_count": 219,
      "outputs": [
        {
          "output_type": "stream",
          "name": "stdout",
          "text": [
            "0 *\n",
            "0 *\n",
            "0 *\n",
            "0 *\n",
            "0 *\n",
            "1 *\n",
            "1 *\n",
            "1 *\n",
            "1 *\n",
            "2 *\n",
            "2 *\n",
            "2 *\n",
            "3 *\n",
            "3 *\n",
            "4 *\n"
          ]
        }
      ]
    },
    {
      "cell_type": "code",
      "source": [
        "for i in range(5):\n",
        "  for j in range(i):\n",
        "    print(i,'*',end=' ')\n",
        "  print()"
      ],
      "metadata": {
        "colab": {
          "base_uri": "https://localhost:8080/"
        },
        "id": "DQmhd0f5ERJv",
        "outputId": "a43b3b00-21f7-4819-a560-662cdc943c62"
      },
      "execution_count": 176,
      "outputs": [
        {
          "output_type": "stream",
          "name": "stdout",
          "text": [
            "\n",
            "1 * \n",
            "2 * 2 * \n",
            "3 * 3 * 3 * \n",
            "4 * 4 * 4 * 4 * \n"
          ]
        }
      ]
    },
    {
      "cell_type": "code",
      "source": [
        "for i in range(5,0,-1):\n",
        "  for j in range(i):\n",
        "    print(\"*\",end=' ')\n",
        "  print()"
      ],
      "metadata": {
        "colab": {
          "base_uri": "https://localhost:8080/"
        },
        "id": "qqlatmX5E6N7",
        "outputId": "8b7973e0-5871-40b1-b2ee-0b792ec480e2"
      },
      "execution_count": 179,
      "outputs": [
        {
          "output_type": "stream",
          "name": "stdout",
          "text": [
            "* * * * * \n",
            "* * * * \n",
            "* * * \n",
            "* * \n",
            "* \n"
          ]
        }
      ]
    },
    {
      "cell_type": "code",
      "source": [
        "for i in range(1,5):\n",
        "  for j in range(5-i):\n",
        "    print(\"*\",end=' ')\n",
        "  print()"
      ],
      "metadata": {
        "colab": {
          "base_uri": "https://localhost:8080/"
        },
        "id": "0okvqWV_G23G",
        "outputId": "624ee3df-97ae-40d4-993d-97a6ef5fd3ad"
      },
      "execution_count": 207,
      "outputs": [
        {
          "output_type": "stream",
          "name": "stdout",
          "text": [
            "* * * * \n",
            "* * * \n",
            "* * \n",
            "* \n"
          ]
        }
      ]
    },
    {
      "cell_type": "code",
      "source": [
        "for i in range(5):\n",
        "  for j in range(5-i):\n",
        "    print('*',end=' ')\n",
        "\n",
        "  print()"
      ],
      "metadata": {
        "colab": {
          "base_uri": "https://localhost:8080/"
        },
        "id": "8gMkIy-wIxWN",
        "outputId": "31f8e95a-e3a2-4642-d0e1-a46036744ff2"
      },
      "execution_count": 208,
      "outputs": [
        {
          "output_type": "stream",
          "name": "stdout",
          "text": [
            "* * * * * \n",
            "* * * * \n",
            "* * * \n",
            "* * \n",
            "* \n"
          ]
        }
      ]
    },
    {
      "cell_type": "code",
      "source": [
        "for i in range(1,6):\n",
        "  for j in range(6-i):\n",
        "    print(' ',end=' ')\n",
        "  print(' *'*i)"
      ],
      "metadata": {
        "colab": {
          "base_uri": "https://localhost:8080/"
        },
        "id": "Jo--td_4Jehd",
        "outputId": "ff92be00-127b-4601-a699-94955ec2d2be"
      },
      "execution_count": 243,
      "outputs": [
        {
          "output_type": "stream",
          "name": "stdout",
          "text": [
            "           *\n",
            "         * *\n",
            "       * * *\n",
            "     * * * *\n",
            "   * * * * *\n"
          ]
        }
      ]
    },
    {
      "cell_type": "code",
      "source": [
        "#         *\n",
        "#       * *\n",
        "#     * * *\n",
        "#   * * * *\n",
        "# * * * * *"
      ],
      "metadata": {
        "id": "AWLEJFY4GBTr"
      },
      "execution_count": null,
      "outputs": []
    },
    {
      "cell_type": "code",
      "source": [
        "for i in range(6,0,-1):\n",
        "  for j in range(6-i):\n",
        "    print(' ',end=' ')\n",
        "  print(' *'*i)"
      ],
      "metadata": {
        "colab": {
          "base_uri": "https://localhost:8080/"
        },
        "id": "q63CKNxDGBRO",
        "outputId": "a18d35da-7254-4a3a-a81b-9c76af338d62"
      },
      "execution_count": 244,
      "outputs": [
        {
          "output_type": "stream",
          "name": "stdout",
          "text": [
            " * * * * * *\n",
            "   * * * * *\n",
            "     * * * *\n",
            "       * * *\n",
            "         * *\n",
            "           *\n"
          ]
        }
      ]
    },
    {
      "cell_type": "code",
      "source": [
        "for i in range(1,6):\n",
        "  for j in range(6-i):\n",
        "    print('',end=' ')\n",
        "  print(' *'*i)"
      ],
      "metadata": {
        "colab": {
          "base_uri": "https://localhost:8080/"
        },
        "id": "g0zSZ98dGBOu",
        "outputId": "e18273a9-7058-44c6-c748-923d73ff9df3"
      },
      "execution_count": 260,
      "outputs": [
        {
          "output_type": "stream",
          "name": "stdout",
          "text": [
            "      *\n",
            "     * *\n",
            "    * * *\n",
            "   * * * *\n",
            "  * * * * *\n"
          ]
        }
      ]
    },
    {
      "cell_type": "code",
      "source": [
        "for i in range(6,0,-1):\n",
        "  for j in range(6-i):\n",
        "    print('',end=' ')\n",
        "  print(' *'*i)"
      ],
      "metadata": {
        "colab": {
          "base_uri": "https://localhost:8080/"
        },
        "id": "KsILzSpiM2xd",
        "outputId": "b3a0a79a-5e17-42fa-8eb7-83327940b8c0"
      },
      "execution_count": 255,
      "outputs": [
        {
          "output_type": "stream",
          "name": "stdout",
          "text": [
            " * * * * * *\n",
            "  * * * * *\n",
            "   * * * *\n",
            "    * * *\n",
            "     * *\n",
            "      *\n"
          ]
        }
      ]
    },
    {
      "cell_type": "code",
      "source": [
        "for i in range(1,7):\n",
        "  for j in range(7-i):\n",
        "    print('',end=' ')\n",
        "  print(' *'*i)\n",
        "for i in range(7,0,-1):\n",
        "  for j in range(7-i):\n",
        "    print('',end=' ')\n",
        "  print(' *'*i)"
      ],
      "metadata": {
        "colab": {
          "base_uri": "https://localhost:8080/"
        },
        "id": "YErUdxq2M9zD",
        "outputId": "228a0f6d-9fc7-4c00-b3e5-4a773a82b675"
      },
      "execution_count": 279,
      "outputs": [
        {
          "output_type": "stream",
          "name": "stdout",
          "text": [
            "       *\n",
            "      * *\n",
            "     * * *\n",
            "    * * * *\n",
            "   * * * * *\n",
            "  * * * * * *\n",
            " * * * * * * *\n",
            "  * * * * * *\n",
            "   * * * * *\n",
            "    * * * *\n",
            "     * * *\n",
            "      * *\n",
            "       *\n"
          ]
        }
      ]
    },
    {
      "cell_type": "code",
      "source": [
        "# P\n",
        "# P y\n",
        "# P y t\n",
        "# P y t h\n",
        "# P y t h o\n",
        "# P y t h o n"
      ],
      "metadata": {
        "id": "IGyN3KmTL0_s"
      },
      "execution_count": 260,
      "outputs": []
    },
    {
      "cell_type": "code",
      "source": [
        "x='python'\n",
        "for i in range(len(x)):\n",
        "  for j in range(i+1):\n",
        "    print(x[i],end=' ')\n",
        "  print()"
      ],
      "metadata": {
        "colab": {
          "base_uri": "https://localhost:8080/"
        },
        "id": "mQWVCUeeL3vV",
        "outputId": "db8642e1-6b04-4f8d-c4b6-84ad7fcb2888"
      },
      "execution_count": 264,
      "outputs": [
        {
          "output_type": "stream",
          "name": "stdout",
          "text": [
            "p \n",
            "y y \n",
            "t t t \n",
            "h h h h \n",
            "o o o o o \n",
            "n n n n n n \n"
          ]
        }
      ]
    },
    {
      "cell_type": "code",
      "source": [
        "x='python'\n",
        "for i in range(len(x)):\n",
        "  for j in range(i+1):\n",
        "    print(x[j],end=' ')\n",
        "  print()"
      ],
      "metadata": {
        "colab": {
          "base_uri": "https://localhost:8080/"
        },
        "id": "qopZGWXdS5Rv",
        "outputId": "7cc1df97-3100-43bc-bfff-99a14024ec18"
      },
      "execution_count": 265,
      "outputs": [
        {
          "output_type": "stream",
          "name": "stdout",
          "text": [
            "p \n",
            "p y \n",
            "p y t \n",
            "p y t h \n",
            "p y t h o \n",
            "p y t h o n \n"
          ]
        }
      ]
    },
    {
      "cell_type": "code",
      "source": [
        "# 6 6 6 6 6 6\n",
        "# 5 5 5 5 5\n",
        "# 4 4 4 4\n",
        "# 3 3 3\n",
        "# 2 2\n",
        "# 1"
      ],
      "metadata": {
        "id": "a6_LfSnDTOjO"
      },
      "execution_count": null,
      "outputs": []
    },
    {
      "cell_type": "code",
      "source": [
        "for i in range(6,0,-1):\n",
        "  for j in range(i):\n",
        "    print(i,end=' ')\n",
        "  print()"
      ],
      "metadata": {
        "colab": {
          "base_uri": "https://localhost:8080/"
        },
        "id": "8tEYUeVTTYU2",
        "outputId": "402f0a45-f67b-4e2e-a396-d5e3744ff078"
      },
      "execution_count": 272,
      "outputs": [
        {
          "output_type": "stream",
          "name": "stdout",
          "text": [
            "6 6 6 6 6 6 \n",
            "5 5 5 5 5 \n",
            "4 4 4 4 \n",
            "3 3 3 \n",
            "2 2 \n",
            "1 \n"
          ]
        }
      ]
    },
    {
      "cell_type": "code",
      "source": [
        "for i in range(5):\n",
        "  for j in range(i):\n",
        "    print('*',end=' ')\n",
        "  print()\n",
        "for i in range(5):\n",
        "  for j in range(5-i):\n",
        "    print('*',end=' ')\n",
        "  print()"
      ],
      "metadata": {
        "colab": {
          "base_uri": "https://localhost:8080/"
        },
        "id": "00dX-ZegTzfl",
        "outputId": "132b19b1-feaf-4d50-e97c-3f6afcd52600"
      },
      "execution_count": 274,
      "outputs": [
        {
          "output_type": "stream",
          "name": "stdout",
          "text": [
            "\n",
            "* \n",
            "* * \n",
            "* * * \n",
            "* * * * \n",
            "* * * * * \n",
            "* * * * \n",
            "* * * \n",
            "* * \n",
            "* \n"
          ]
        }
      ]
    },
    {
      "cell_type": "code",
      "source": [],
      "metadata": {
        "id": "r_MdcGc7T7VT"
      },
      "execution_count": null,
      "outputs": []
    }
  ]
}