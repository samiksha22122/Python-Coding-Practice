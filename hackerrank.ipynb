{
  "nbformat": 4,
  "nbformat_minor": 0,
  "metadata": {
    "colab": {
      "provenance": []
    },
    "kernelspec": {
      "name": "python3",
      "display_name": "Python 3"
    },
    "language_info": {
      "name": "python"
    }
  },
  "cells": [
    {
      "cell_type": "code",
      "execution_count": null,
      "metadata": {
        "id": "e328ticAn_6E"
      },
      "outputs": [],
      "source": [
        "s= 'aWESOME is cODING'"
      ]
    },
    {
      "cell_type": "code",
      "source": [
        "def x(s):\n",
        "  f=''\n",
        "  for i in s.split():\n",
        "    f=i+' '+f\n",
        "    g=f.swapcase()\n",
        "  return g"
      ],
      "metadata": {
        "id": "xuLk1D2PoCPG"
      },
      "execution_count": null,
      "outputs": []
    },
    {
      "cell_type": "code",
      "source": [
        "x('aWESOME is cODING' )"
      ],
      "metadata": {
        "colab": {
          "base_uri": "https://localhost:8080/",
          "height": 35
        },
        "id": "IdwUhZLVoCEh",
        "outputId": "e0947237-cf0d-44cf-c1e4-73fd7213d32d"
      },
      "execution_count": null,
      "outputs": [
        {
          "output_type": "execute_result",
          "data": {
            "text/plain": [
              "'Coding IS Awesome '"
            ],
            "application/vnd.google.colaboratory.intrinsic+json": {
              "type": "string"
            }
          },
          "metadata": {},
          "execution_count": 25
        }
      ]
    },
    {
      "cell_type": "code",
      "source": [
        "def reverse_words_order_and_swap_cases(sentence):\n",
        "    f=''\n",
        "    for i in sentence.split():\n",
        "        f=i+' '+f\n",
        "        g=f.swapcase()\n",
        "    return g"
      ],
      "metadata": {
        "id": "TwqJz3X9pKjv"
      },
      "execution_count": null,
      "outputs": []
    },
    {
      "cell_type": "code",
      "source": [
        "reverse_words_order_and_swap_cases('aWESOME is cODING')"
      ],
      "metadata": {
        "id": "HZKbOPEIpW0w",
        "outputId": "70344485-0d75-4444-bbf0-eab85f3361cf",
        "colab": {
          "base_uri": "https://localhost:8080/",
          "height": 35
        }
      },
      "execution_count": null,
      "outputs": [
        {
          "output_type": "execute_result",
          "data": {
            "text/plain": [
              "'Coding IS Awesome '"
            ],
            "application/vnd.google.colaboratory.intrinsic+json": {
              "type": "string"
            }
          },
          "metadata": {},
          "execution_count": 27
        }
      ]
    },
    {
      "cell_type": "code",
      "source": [
        "d='samiksha ss gfeaad'\n",
        "d.split()"
      ],
      "metadata": {
        "id": "Oub7UGKTpYus",
        "colab": {
          "base_uri": "https://localhost:8080/"
        },
        "outputId": "9cd1adad-d6f2-4761-f3f1-8e11f4fe3158"
      },
      "execution_count": null,
      "outputs": [
        {
          "output_type": "execute_result",
          "data": {
            "text/plain": [
              "['samiksha', 'ss', 'gfeaad']"
            ]
          },
          "metadata": {},
          "execution_count": 29
        }
      ]
    },
    {
      "cell_type": "code",
      "source": [
        "def leap_year(x):\n",
        "  if x%4==0 and x%400==0:\n",
        "    return True\n",
        "  if x%4==0 and x%100==0:\n",
        "    return False\n",
        "  if x%400==0 and x%100==0:\n",
        "    return False\n",
        "  return False"
      ],
      "metadata": {
        "id": "PfeZcZaqsgcM"
      },
      "execution_count": null,
      "outputs": []
    },
    {
      "cell_type": "code",
      "source": [
        "leap_year(1992)"
      ],
      "metadata": {
        "colab": {
          "base_uri": "https://localhost:8080/"
        },
        "id": "zV6XnPsyvoHE",
        "outputId": "09cb630e-3ea6-4d82-c197-cc34fee0c8b9"
      },
      "execution_count": null,
      "outputs": [
        {
          "output_type": "execute_result",
          "data": {
            "text/plain": [
              "False"
            ]
          },
          "metadata": {},
          "execution_count": 48
        }
      ]
    },
    {
      "cell_type": "code",
      "source": [
        "1992%400"
      ],
      "metadata": {
        "colab": {
          "base_uri": "https://localhost:8080/"
        },
        "id": "dZp6RlCqvELD",
        "outputId": "aeccbc8c-eb86-4cee-a8ca-d37c9055024a"
      },
      "execution_count": null,
      "outputs": [
        {
          "output_type": "execute_result",
          "data": {
            "text/plain": [
              "392"
            ]
          },
          "metadata": {},
          "execution_count": 40
        }
      ]
    },
    {
      "cell_type": "code",
      "source": [
        "def leap_year(x):\n",
        "  if x%4==0 and x%400==0 and:\n",
        "    return True"
      ],
      "metadata": {
        "id": "mr0aSxaxvEH0"
      },
      "execution_count": null,
      "outputs": []
    },
    {
      "cell_type": "code",
      "source": [
        "(year % 4 == 0 and year % 100 != 0) or (year % 400 == 0)"
      ],
      "metadata": {
        "id": "Yv2YRPTmvEAj"
      },
      "execution_count": null,
      "outputs": []
    },
    {
      "cell_type": "code",
      "source": [
        "n = int(input())\n",
        "arr = map(int, input().split())\n",
        "g=[]\n",
        "g.append(arr)\n",
        "g"
      ],
      "metadata": {
        "colab": {
          "base_uri": "https://localhost:8080/"
        },
        "id": "PMBzj2ZFvD9j",
        "outputId": "cae910a1-f089-4a17-8b72-6303b4e58e61"
      },
      "execution_count": null,
      "outputs": [
        {
          "name": "stdout",
          "output_type": "stream",
          "text": [
            "5\n",
            "6\n"
          ]
        },
        {
          "output_type": "execute_result",
          "data": {
            "text/plain": [
              "[<map at 0x785dfcafe110>]"
            ]
          },
          "metadata": {},
          "execution_count": 84
        }
      ]
    },
    {
      "cell_type": "code",
      "source": [
        "import numpy as np"
      ],
      "metadata": {
        "id": "lG0mxOna0KSC"
      },
      "execution_count": null,
      "outputs": []
    },
    {
      "cell_type": "code",
      "source": [
        "np.array([1,2,3,4])"
      ],
      "metadata": {
        "colab": {
          "base_uri": "https://localhost:8080/"
        },
        "id": "DKZ7Lx421uF-",
        "outputId": "ceab07e6-a0e2-42f3-e796-03de728d481f"
      },
      "execution_count": null,
      "outputs": [
        {
          "output_type": "execute_result",
          "data": {
            "text/plain": [
              "array([1, 2, 3, 4])"
            ]
          },
          "metadata": {},
          "execution_count": 74
        }
      ]
    },
    {
      "cell_type": "code",
      "source": [
        "tuple(arr)"
      ],
      "metadata": {
        "colab": {
          "base_uri": "https://localhost:8080/"
        },
        "id": "yVdHg92m1v0W",
        "outputId": "ee341e4a-9fd2-40ce-ff14-18a120de634f"
      },
      "execution_count": null,
      "outputs": [
        {
          "output_type": "execute_result",
          "data": {
            "text/plain": [
              "(2,)"
            ]
          },
          "metadata": {},
          "execution_count": 82
        }
      ]
    },
    {
      "cell_type": "code",
      "source": [
        "n = int(input())\n",
        "student_marks = {}\n",
        "for _ in range(n):\n",
        "    name, *line = input().split()\n",
        "    scores = list(map(float, line))\n",
        "    student_marks[name] = scores\n",
        "query_name = input()"
      ],
      "metadata": {
        "colab": {
          "base_uri": "https://localhost:8080/"
        },
        "id": "yKYM2VYD2Ppa",
        "outputId": "e93f32b6-0d73-411f-f38b-4bd300b7082d"
      },
      "execution_count": null,
      "outputs": [
        {
          "name": "stdout",
          "output_type": "stream",
          "text": [
            "1\n",
            "samiksha 1\n",
            "samti 32 5 4 \n"
          ]
        }
      ]
    },
    {
      "cell_type": "code",
      "source": [
        "n = int(input())\n",
        "student_marks = {}\n",
        "for _ in range(n):\n",
        "    name, *line = input().split()  # Split input into name and scores\n",
        "    scores = list(map(float, line))  # Convert scores to a list of floats\n",
        "    student_marks[name] = scores  # Store in dictionary\n",
        "query_name = input()\n",
        "average_marks = sum(student_marks[query_name]) / len(student_marks[query_name])\n",
        "print(f\"{average_marks:.2f}\")  # Print result rounded to 2 decimal places"
      ],
      "metadata": {
        "colab": {
          "base_uri": "https://localhost:8080/"
        },
        "id": "sqxBd5WU2Pmd",
        "outputId": "f2a50ec6-0b39-4148-9e06-706dd0030bb1"
      },
      "execution_count": null,
      "outputs": [
        {
          "output_type": "stream",
          "name": "stdout",
          "text": [
            "3\n",
            "Alice 78 89 90\n",
            "Bob 67 76 88\n",
            "Charlie 92 85 80\n",
            "Bob\n",
            "77.00\n"
          ]
        }
      ]
    },
    {
      "cell_type": "code",
      "source": [
        "n=int(input())\n",
        "student_marks={}\n",
        "for _ in range(n):\n",
        "  name,*line= input().split()\n",
        "  scores = list(map(float, line))\n",
        "  student_marks[name]=scores\n",
        "  print(student_marks)\n",
        "query=input()\n",
        "avg_marks=sum(student_marks[query])/len(student_marks[query])\n",
        "avg_marks"
      ],
      "metadata": {
        "colab": {
          "base_uri": "https://localhost:8080/"
        },
        "id": "hzKCq14s2Pju",
        "outputId": "2d53322a-c313-43a3-a1fa-7aeb4c136fa2"
      },
      "execution_count": null,
      "outputs": [
        {
          "output_type": "stream",
          "name": "stdout",
          "text": [
            "1\n",
            "Alice 78 89 90\n",
            "{'Alice': [78.0, 89.0, 90.0]}\n"
          ]
        }
      ]
    },
    {
      "cell_type": "code",
      "source": [
        "# we need to find the runner up score\n",
        "number_of_peoples=int(input())\n",
        "scores=[]\n",
        "for _ in range(number_of_peoples):\n",
        "  scores.append(int(input()))\n",
        "  x=sorted(scores)\n",
        "  print(x[len(x)-2])"
      ],
      "metadata": {
        "colab": {
          "base_uri": "https://localhost:8080/"
        },
        "id": "b7un1aq052kg",
        "outputId": "59d1f3b1-9620-447a-e308-bd54f95d763d"
      },
      "execution_count": null,
      "outputs": [
        {
          "name": "stdout",
          "output_type": "stream",
          "text": [
            "3\n",
            "1\n",
            "2\n",
            "3\n"
          ]
        },
        {
          "output_type": "execute_result",
          "data": {
            "text/plain": [
              "[1, 2, 3]"
            ]
          },
          "metadata": {},
          "execution_count": 38
        }
      ]
    },
    {
      "cell_type": "code",
      "source": [
        "d=[1, 2, 3,4,2,3,5,6,5]\n",
        "x=sorted(d)\n",
        "x[len(x)-2]"
      ],
      "metadata": {
        "colab": {
          "base_uri": "https://localhost:8080/"
        },
        "id": "Q_rjRS1O52VR",
        "outputId": "1c6873a4-4923-4c59-fa9e-27838ba720e8"
      },
      "execution_count": null,
      "outputs": [
        {
          "output_type": "execute_result",
          "data": {
            "text/plain": [
              "5"
            ]
          },
          "metadata": {},
          "execution_count": 44
        }
      ]
    },
    {
      "cell_type": "code",
      "source": [
        "arr = map(int, input().split())"
      ],
      "metadata": {
        "colab": {
          "base_uri": "https://localhost:8080/"
        },
        "id": "ZblDz4Hx52Kn",
        "outputId": "b18ccf94-d08a-4e7f-c256-f678279f55ed"
      },
      "execution_count": null,
      "outputs": [
        {
          "output_type": "execute_result",
          "data": {
            "text/plain": [
              "[1, 2, 2, 3, 3, 4, 5, 5, 6]"
            ]
          },
          "metadata": {},
          "execution_count": 45
        }
      ]
    },
    {
      "cell_type": "code",
      "source": [
        "if __name__ == '__main__':\n",
        "    n = int(input())\n",
        "    arr = map(int, input().split())\n",
        "    scores=[]\n",
        "    for _ in range(n):\n",
        "      scores.append(int(input()))\n",
        "      x=sorted(scores)\n",
        "    print(x[len(x)-2])\n"
      ],
      "metadata": {
        "colab": {
          "base_uri": "https://localhost:8080/"
        },
        "id": "ddRnj3dh52FX",
        "outputId": "e34a547c-36f2-4ee6-c259-1a6a05bd8139"
      },
      "execution_count": null,
      "outputs": [
        {
          "output_type": "stream",
          "name": "stdout",
          "text": [
            "3\n",
            "1\n",
            "3\n",
            "4\n",
            "3\n"
          ]
        }
      ]
    },
    {
      "cell_type": "code",
      "source": [
        "n = int(input())\n",
        "arr = (map(int, input().split()))\n",
        "scores= list(arr)\n",
        "x=sorted(set(scores))\n",
        "print(x[len(x)-2])"
      ],
      "metadata": {
        "colab": {
          "base_uri": "https://localhost:8080/"
        },
        "id": "pSk5wkkn519b",
        "outputId": "1be29ef5-1b95-441d-bb1a-176b1e443009"
      },
      "execution_count": null,
      "outputs": [
        {
          "output_type": "stream",
          "name": "stdout",
          "text": [
            "5\n",
            "2 3 6 6 5\n",
            "5\n"
          ]
        }
      ]
    },
    {
      "cell_type": "code",
      "source": [
        "# Initialize your list and read in the value of  followed by lines of commands where each command will be of the  types listed above.\n",
        "# Iterate through each command in order and perform the corresponding operation on your list."
      ],
      "metadata": {
        "id": "z8JgZjiS5155"
      },
      "execution_count": null,
      "outputs": []
    },
    {
      "cell_type": "code",
      "source": [
        "if __name__ == '__main__':\n",
        "    N = int(input())  # Read number of commands\n",
        "    l = []  # Initialize empty list\n",
        "    for _ in range(N):  # Loop through N commands\n",
        "        command = input().split()  # Read command and split into parts\n",
        "        if command[0] == \"insert\":\n",
        "            l.insert(int(command[1]), int(command[2]))  # Insert at index\n",
        "        elif command[0] == \"print\":\n",
        "            print(l)  # Print the list\n",
        "        elif command[0] == \"remove\":\n",
        "            l.remove(int(command[1]))  # Remove first occurrence of value\n",
        "        elif command[0] == \"append\":\n",
        "            l.append(int(command[1]))  # Append value to list\n",
        "        elif command[0] == \"sort\":\n",
        "            l.sort()  # Sort list\n",
        "        elif command[0] == \"pop\":\n",
        "            l.pop()  # Remove last element\n",
        "        elif command[0] == \"reverse\":\n",
        "            l.reverse()  # Reverse list"
      ],
      "metadata": {
        "colab": {
          "base_uri": "https://localhost:8080/"
        },
        "id": "vC7Eis9q51rY",
        "outputId": "6e88061b-6809-4083-fcdf-1e3543bb3ced"
      },
      "execution_count": null,
      "outputs": [
        {
          "output_type": "stream",
          "name": "stdout",
          "text": [
            "2\n",
            "append 2\n",
            "append 4\n",
            "[2, 4]\n"
          ]
        }
      ]
    },
    {
      "cell_type": "code",
      "source": [
        "N = int(input())  # Read number of commands\n",
        "l = []  # Initialize empty list\n",
        "for _ in range(N):  # Loop through N commands\n",
        "    command = input().split()  # Read command and split into parts"
      ],
      "metadata": {
        "colab": {
          "base_uri": "https://localhost:8080/"
        },
        "id": "Jd1Qs19y2Pgn",
        "outputId": "f94c50f6-8073-418b-a322-0e3de57f8ada"
      },
      "execution_count": null,
      "outputs": [
        {
          "name": "stdout",
          "output_type": "stream",
          "text": [
            "5\n",
            "print\n",
            "append\n",
            "insert\n",
            "print\n",
            "print\n"
          ]
        }
      ]
    },
    {
      "cell_type": "code",
      "source": [
        "command[0]"
      ],
      "metadata": {
        "colab": {
          "base_uri": "https://localhost:8080/",
          "height": 35
        },
        "id": "kyOP1SlN5wHK",
        "outputId": "f8d43359-6d65-4c3d-a9e7-b46686904139"
      },
      "execution_count": null,
      "outputs": [
        {
          "output_type": "execute_result",
          "data": {
            "text/plain": [
              "'print'"
            ],
            "application/vnd.google.colaboratory.intrinsic+json": {
              "type": "string"
            }
          },
          "metadata": {},
          "execution_count": 77
        }
      ]
    },
    {
      "cell_type": "code",
      "source": [
        "records=[]\n",
        "for _ in range(int(input())):\n",
        "  name = input()\n",
        "  score = float(input())\n",
        "  records.append([name,score])\n",
        "  v=sorted(records,key=lambda x:x[1])\n",
        "  h=[v[i][1] for i in range(len(v))]\n",
        "print(h[len(h)-2])"
      ],
      "metadata": {
        "colab": {
          "base_uri": "https://localhost:8080/"
        },
        "id": "PPHOUbCc5wEv",
        "outputId": "4e98802a-7c15-48fe-c792-c74479c5aaee"
      },
      "execution_count": null,
      "outputs": [
        {
          "output_type": "stream",
          "name": "stdout",
          "text": [
            "3\n",
            "chi\n",
            "20.0\n",
            "sam\n",
            "30.0\n",
            "aam\n",
            "10.0\n",
            "20.0\n"
          ]
        }
      ]
    },
    {
      "cell_type": "code",
      "source": [
        "s=[['sam', 20.0], ['dd', 30.0],['cd',10.0]]\n",
        "sorted(s,key=lambda x:x[1])"
      ],
      "metadata": {
        "colab": {
          "base_uri": "https://localhost:8080/"
        },
        "id": "Yxpujc6G5wCp",
        "outputId": "1a4f0a42-2015-4bc4-a0c9-ca95dade8573"
      },
      "execution_count": null,
      "outputs": [
        {
          "output_type": "execute_result",
          "data": {
            "text/plain": [
              "[['cd', 10.0], ['sam', 20.0], ['dd', 30.0]]"
            ]
          },
          "metadata": {},
          "execution_count": 98
        }
      ]
    },
    {
      "cell_type": "code",
      "source": [
        "v=[['cd', 10.0], ['sam', 20.0], ['dd', 30.0]]\n",
        "# d=lambda x:x[1][1]\n",
        "for i in range(len(v)):\n",
        "  print(v[i][1])"
      ],
      "metadata": {
        "colab": {
          "base_uri": "https://localhost:8080/"
        },
        "id": "v53ES_8X5v-i",
        "outputId": "8a526867-4d53-4560-a529-6840584e15c5"
      },
      "execution_count": null,
      "outputs": [
        {
          "output_type": "stream",
          "name": "stdout",
          "text": [
            "10.0\n",
            "20.0\n",
            "30.0\n"
          ]
        }
      ]
    },
    {
      "cell_type": "code",
      "source": [
        "[v[i][1] for i in range(len(v))]"
      ],
      "metadata": {
        "colab": {
          "base_uri": "https://localhost:8080/"
        },
        "id": "T_HYko-gZC0d",
        "outputId": "7943e926-9797-4ddc-a732-569f1995369a"
      },
      "execution_count": null,
      "outputs": [
        {
          "output_type": "execute_result",
          "data": {
            "text/plain": [
              "[10.0, 20.0, 30.0]"
            ]
          },
          "metadata": {},
          "execution_count": 113
        }
      ]
    },
    {
      "cell_type": "code",
      "source": [
        "h=[v[i][1] for i in range(len(v))]"
      ],
      "metadata": {
        "id": "Me4JdKTXZt-f"
      },
      "execution_count": null,
      "outputs": []
    },
    {
      "cell_type": "code",
      "source": [
        "h[len(h)-2]"
      ],
      "metadata": {
        "colab": {
          "base_uri": "https://localhost:8080/"
        },
        "id": "bA5s7k2CZ31Z",
        "outputId": "16cab33c-2fc1-4bdc-c39b-918011094d23"
      },
      "execution_count": null,
      "outputs": [
        {
          "output_type": "execute_result",
          "data": {
            "text/plain": [
              "20.0"
            ]
          },
          "metadata": {},
          "execution_count": 121
        }
      ]
    },
    {
      "cell_type": "code",
      "source": [
        "records=[]\n",
        "for _ in range(int(input())):\n",
        "  name = input()\n",
        "  score = float(input())\n",
        "  records.append([name,score])\n",
        "print(sorted(records,key=lambda x:x[1])[1][0])"
      ],
      "metadata": {
        "colab": {
          "base_uri": "https://localhost:8080/",
          "height": 373
        },
        "collapsed": true,
        "id": "RRSSWtvxaGQU",
        "outputId": "a76a81e5-634b-4765-e874-96b1a133f7c1"
      },
      "execution_count": null,
      "outputs": [
        {
          "name": "stdout",
          "output_type": "stream",
          "text": [
            "3\n"
          ]
        },
        {
          "output_type": "error",
          "ename": "KeyboardInterrupt",
          "evalue": "Interrupted by user",
          "traceback": [
            "\u001b[0;31m---------------------------------------------------------------------------\u001b[0m",
            "\u001b[0;31mKeyboardInterrupt\u001b[0m                         Traceback (most recent call last)",
            "\u001b[0;32m<ipython-input-201-da80648cdc53>\u001b[0m in \u001b[0;36m<cell line: 0>\u001b[0;34m()\u001b[0m\n\u001b[1;32m      1\u001b[0m \u001b[0mrecords\u001b[0m\u001b[0;34m=\u001b[0m\u001b[0;34m[\u001b[0m\u001b[0;34m]\u001b[0m\u001b[0;34m\u001b[0m\u001b[0;34m\u001b[0m\u001b[0m\n\u001b[1;32m      2\u001b[0m \u001b[0;32mfor\u001b[0m \u001b[0m_\u001b[0m \u001b[0;32min\u001b[0m \u001b[0mrange\u001b[0m\u001b[0;34m(\u001b[0m\u001b[0mint\u001b[0m\u001b[0;34m(\u001b[0m\u001b[0minput\u001b[0m\u001b[0;34m(\u001b[0m\u001b[0;34m)\u001b[0m\u001b[0;34m)\u001b[0m\u001b[0;34m)\u001b[0m\u001b[0;34m:\u001b[0m\u001b[0;34m\u001b[0m\u001b[0;34m\u001b[0m\u001b[0m\n\u001b[0;32m----> 3\u001b[0;31m   \u001b[0mname\u001b[0m \u001b[0;34m=\u001b[0m \u001b[0minput\u001b[0m\u001b[0;34m(\u001b[0m\u001b[0;34m)\u001b[0m\u001b[0;34m\u001b[0m\u001b[0;34m\u001b[0m\u001b[0m\n\u001b[0m\u001b[1;32m      4\u001b[0m   \u001b[0mscore\u001b[0m \u001b[0;34m=\u001b[0m \u001b[0mfloat\u001b[0m\u001b[0;34m(\u001b[0m\u001b[0minput\u001b[0m\u001b[0;34m(\u001b[0m\u001b[0;34m)\u001b[0m\u001b[0;34m)\u001b[0m\u001b[0;34m\u001b[0m\u001b[0;34m\u001b[0m\u001b[0m\n\u001b[1;32m      5\u001b[0m   \u001b[0mrecords\u001b[0m\u001b[0;34m.\u001b[0m\u001b[0mappend\u001b[0m\u001b[0;34m(\u001b[0m\u001b[0;34m[\u001b[0m\u001b[0mname\u001b[0m\u001b[0;34m,\u001b[0m\u001b[0mscore\u001b[0m\u001b[0;34m]\u001b[0m\u001b[0;34m)\u001b[0m\u001b[0;34m\u001b[0m\u001b[0;34m\u001b[0m\u001b[0m\n",
            "\u001b[0;32m/usr/local/lib/python3.11/dist-packages/ipykernel/kernelbase.py\u001b[0m in \u001b[0;36mraw_input\u001b[0;34m(self, prompt)\u001b[0m\n\u001b[1;32m    849\u001b[0m                 \u001b[0;34m\"raw_input was called, but this frontend does not support input requests.\"\u001b[0m\u001b[0;34m\u001b[0m\u001b[0;34m\u001b[0m\u001b[0m\n\u001b[1;32m    850\u001b[0m             )\n\u001b[0;32m--> 851\u001b[0;31m         return self._input_request(str(prompt),\n\u001b[0m\u001b[1;32m    852\u001b[0m             \u001b[0mself\u001b[0m\u001b[0;34m.\u001b[0m\u001b[0m_parent_ident\u001b[0m\u001b[0;34m,\u001b[0m\u001b[0;34m\u001b[0m\u001b[0;34m\u001b[0m\u001b[0m\n\u001b[1;32m    853\u001b[0m             \u001b[0mself\u001b[0m\u001b[0;34m.\u001b[0m\u001b[0m_parent_header\u001b[0m\u001b[0;34m,\u001b[0m\u001b[0;34m\u001b[0m\u001b[0;34m\u001b[0m\u001b[0m\n",
            "\u001b[0;32m/usr/local/lib/python3.11/dist-packages/ipykernel/kernelbase.py\u001b[0m in \u001b[0;36m_input_request\u001b[0;34m(self, prompt, ident, parent, password)\u001b[0m\n\u001b[1;32m    893\u001b[0m             \u001b[0;32mexcept\u001b[0m \u001b[0mKeyboardInterrupt\u001b[0m\u001b[0;34m:\u001b[0m\u001b[0;34m\u001b[0m\u001b[0;34m\u001b[0m\u001b[0m\n\u001b[1;32m    894\u001b[0m                 \u001b[0;31m# re-raise KeyboardInterrupt, to truncate traceback\u001b[0m\u001b[0;34m\u001b[0m\u001b[0;34m\u001b[0m\u001b[0m\n\u001b[0;32m--> 895\u001b[0;31m                 \u001b[0;32mraise\u001b[0m \u001b[0mKeyboardInterrupt\u001b[0m\u001b[0;34m(\u001b[0m\u001b[0;34m\"Interrupted by user\"\u001b[0m\u001b[0;34m)\u001b[0m \u001b[0;32mfrom\u001b[0m \u001b[0;32mNone\u001b[0m\u001b[0;34m\u001b[0m\u001b[0;34m\u001b[0m\u001b[0m\n\u001b[0m\u001b[1;32m    896\u001b[0m             \u001b[0;32mexcept\u001b[0m \u001b[0mException\u001b[0m \u001b[0;32mas\u001b[0m \u001b[0me\u001b[0m\u001b[0;34m:\u001b[0m\u001b[0;34m\u001b[0m\u001b[0;34m\u001b[0m\u001b[0m\n\u001b[1;32m    897\u001b[0m                 \u001b[0mself\u001b[0m\u001b[0;34m.\u001b[0m\u001b[0mlog\u001b[0m\u001b[0;34m.\u001b[0m\u001b[0mwarning\u001b[0m\u001b[0;34m(\u001b[0m\u001b[0;34m\"Invalid Message:\"\u001b[0m\u001b[0;34m,\u001b[0m \u001b[0mexc_info\u001b[0m\u001b[0;34m=\u001b[0m\u001b[0;32mTrue\u001b[0m\u001b[0;34m)\u001b[0m\u001b[0;34m\u001b[0m\u001b[0;34m\u001b[0m\u001b[0m\n",
            "\u001b[0;31mKeyboardInterrupt\u001b[0m: Interrupted by user"
          ]
        }
      ]
    },
    {
      "cell_type": "code",
      "source": [
        "records=[]\n",
        "for _ in range(int(input())):\n",
        "  name = input()\n",
        "  score = float(input())\n",
        "  records.append([name,score])\n",
        "  records.sort(key=lambda x:x[1])\n",
        "  first_lowest=records[0][1]\n",
        "  second_lowest=None\n",
        "for name,score in records:\n",
        "  if score>first_lowest:\n",
        "    second_lowest=score\n",
        "    break\n",
        "names=sorted([name for name,score in records if score==second_lowest])\n",
        "for name in names:\n",
        "    print(name)"
      ],
      "metadata": {
        "colab": {
          "base_uri": "https://localhost:8080/"
        },
        "id": "qbxlg1T4dOMC",
        "outputId": "78dfdb67-1d5f-488b-e3bd-bd2db2180f91"
      },
      "execution_count": null,
      "outputs": [
        {
          "output_type": "stream",
          "name": "stdout",
          "text": [
            "3\n",
            "chi\n",
            "10.0\n",
            "beta\n",
            "20.0\n",
            "alpha\n",
            "20.0\n",
            "alpha\n",
            "beta\n"
          ]
        }
      ]
    },
    {
      "cell_type": "code",
      "source": [
        "\n",
        "c=[['Alice', 20], ['Bob', 30], ['Charlie', 30], ['David', 40], ['Eve', 50], ['Frank', 60]]"
      ],
      "metadata": {
        "id": "dqhOhzH1diQB"
      },
      "execution_count": null,
      "outputs": []
    },
    {
      "cell_type": "code",
      "source": [],
      "metadata": {
        "id": "R7aygbWsjhrD"
      },
      "execution_count": null,
      "outputs": []
    },
    {
      "cell_type": "code",
      "source": [],
      "metadata": {
        "id": "dwx_hqKIjhno"
      },
      "execution_count": null,
      "outputs": []
    },
    {
      "cell_type": "code",
      "source": [],
      "metadata": {
        "id": "p8OKfZFBjhk7"
      },
      "execution_count": null,
      "outputs": []
    },
    {
      "cell_type": "code",
      "source": [
        "s=int(input())\n",
        "c=map(int,input().split())\n",
        "tuple(c)"
      ],
      "metadata": {
        "colab": {
          "base_uri": "https://localhost:8080/"
        },
        "id": "x_B2iilvjhig",
        "outputId": "6ed330f0-245f-4aa8-dd26-dabd6fb9862c"
      },
      "execution_count": null,
      "outputs": [
        {
          "name": "stdout",
          "output_type": "stream",
          "text": [
            "2\n",
            "1 2\n"
          ]
        },
        {
          "output_type": "execute_result",
          "data": {
            "text/plain": [
              "(1, 2)"
            ]
          },
          "metadata": {},
          "execution_count": 1
        }
      ]
    },
    {
      "cell_type": "code",
      "source": [
        "hash(tuple(c))"
      ],
      "metadata": {
        "colab": {
          "base_uri": "https://localhost:8080/"
        },
        "id": "3mSvdXU8_0hu",
        "outputId": "42e9584e-8373-4a59-a8d6-f63b2fc5e233"
      },
      "execution_count": null,
      "outputs": [
        {
          "output_type": "execute_result",
          "data": {
            "text/plain": [
              "5740354900026072187"
            ]
          },
          "metadata": {},
          "execution_count": 3
        }
      ]
    },
    {
      "cell_type": "code",
      "source": [
        "hash((1,2))"
      ],
      "metadata": {
        "colab": {
          "base_uri": "https://localhost:8080/"
        },
        "id": "xprKL7qq_7Cr",
        "outputId": "b6769598-5116-4a55-b3ea-0d125725e334"
      },
      "execution_count": null,
      "outputs": [
        {
          "output_type": "execute_result",
          "data": {
            "text/plain": [
              "-3550055125485641917"
            ]
          },
          "metadata": {},
          "execution_count": 10
        }
      ]
    },
    {
      "cell_type": "code",
      "source": [
        "n = int(input())\n",
        "integer_list = map(int, input().split())\n",
        "print(hash(tuple(integer_list)))"
      ],
      "metadata": {
        "colab": {
          "base_uri": "https://localhost:8080/"
        },
        "id": "ficPHCUTAK9-",
        "outputId": "628f0e64-4216-4fd1-8427-2b862c386551"
      },
      "execution_count": null,
      "outputs": [
        {
          "output_type": "stream",
          "name": "stdout",
          "text": [
            "2\n",
            "1 2\n",
            "-3550055125485641917\n"
          ]
        }
      ]
    },
    {
      "cell_type": "code",
      "source": [
        "def mutate_string(string, position, character):\n",
        "    for i in range(len(string)):\n",
        "        if i==position:\n",
        "            string[i]==character\n",
        "    return string\n",
        "mutate_string('samiksha',3,'f')"
      ],
      "metadata": {
        "colab": {
          "base_uri": "https://localhost:8080/",
          "height": 35
        },
        "id": "Xagnjg62AgIG",
        "outputId": "438e5a7b-dbd5-421f-b543-488792529d5e"
      },
      "execution_count": null,
      "outputs": [
        {
          "output_type": "execute_result",
          "data": {
            "text/plain": [
              "'samiksha'"
            ],
            "application/vnd.google.colaboratory.intrinsic+json": {
              "type": "string"
            }
          },
          "metadata": {},
          "execution_count": 14
        }
      ]
    },
    {
      "cell_type": "code",
      "source": [
        "def mutate_string(string, position, character):\n",
        "    string=list(string)\n",
        "    for i in range(len(string)):\n",
        "        if i==position:\n",
        "            string[i]=character\n",
        "    return \"\".join(string)\n",
        "mutate_string('samiksha',3,'f')"
      ],
      "metadata": {
        "colab": {
          "base_uri": "https://localhost:8080/",
          "height": 35
        },
        "id": "13A5dbZiCFVe",
        "outputId": "32f0cfc9-c2d1-49fe-942d-cc5e9692dc10"
      },
      "execution_count": null,
      "outputs": [
        {
          "output_type": "execute_result",
          "data": {
            "text/plain": [
              "'samfksha'"
            ],
            "application/vnd.google.colaboratory.intrinsic+json": {
              "type": "string"
            }
          },
          "metadata": {},
          "execution_count": 24
        }
      ]
    },
    {
      "cell_type": "code",
      "source": [
        "ABCDCDC\n",
        "CDC"
      ],
      "metadata": {
        "id": "nrPX1hMWCJnZ"
      },
      "execution_count": null,
      "outputs": []
    },
    {
      "cell_type": "code",
      "source": [
        "def count_substring(string, sub_string):\n",
        "count_substring('ABCDCDC','CDC')"
      ],
      "metadata": {
        "colab": {
          "base_uri": "https://localhost:8080/"
        },
        "id": "47xkVOsuC3qS",
        "outputId": "6caf09a6-218c-4514-af22-f8de51841e55"
      },
      "execution_count": null,
      "outputs": [
        {
          "output_type": "stream",
          "name": "stdout",
          "text": [
            "1\n"
          ]
        }
      ]
    },
    {
      "cell_type": "code",
      "source": [
        "s='ABCDCDC'\n",
        "c=0\n",
        "d=[]\n",
        "for i in range(len(s)):\n",
        "  for j in range(i+1,len(s)+1):\n",
        "    d.append(s[i:j])\n",
        "for j in d:\n",
        "  if j=='CDC':\n",
        "    c+=1\n",
        "c"
      ],
      "metadata": {
        "colab": {
          "base_uri": "https://localhost:8080/"
        },
        "id": "mCPamczFC3m1",
        "outputId": "265f5440-23b9-4441-ea1a-b1a386f4553d"
      },
      "execution_count": null,
      "outputs": [
        {
          "output_type": "execute_result",
          "data": {
            "text/plain": [
              "2"
            ]
          },
          "metadata": {},
          "execution_count": 57
        }
      ]
    },
    {
      "cell_type": "code",
      "source": [
        "def count_substring(string, sub_string):\n",
        "  c=0\n",
        "  d=[]\n",
        "  for i in range(len(s)):\n",
        "    for j in range(i+1,len(s)+1):\n",
        "     d.append(s[i:j])\n",
        "  for j in d:\n",
        "    if j=='CDC':\n",
        "      c+=1\n",
        "  return c\n",
        "count_substring('ABCDCDC','CDC')"
      ],
      "metadata": {
        "colab": {
          "base_uri": "https://localhost:8080/"
        },
        "id": "QOZDUilEGkAa",
        "outputId": "1c3e748e-a5e1-49de-dea6-dbbddede3181"
      },
      "execution_count": null,
      "outputs": [
        {
          "output_type": "execute_result",
          "data": {
            "text/plain": [
              "2"
            ]
          },
          "metadata": {},
          "execution_count": 64
        }
      ]
    },
    {
      "cell_type": "code",
      "source": [],
      "metadata": {
        "id": "sTHdlwVMC3ht"
      },
      "execution_count": null,
      "outputs": []
    },
    {
      "cell_type": "code",
      "source": [
        "d='qA2'\n",
        "d.isalpha()"
      ],
      "metadata": {
        "colab": {
          "base_uri": "https://localhost:8080/"
        },
        "id": "IpB--Ny6Mp7R",
        "outputId": "9e164b80-0526-4540-ff7e-3b1464a90174"
      },
      "execution_count": null,
      "outputs": [
        {
          "output_type": "execute_result",
          "data": {
            "text/plain": [
              "False"
            ]
          },
          "metadata": {},
          "execution_count": 72
        }
      ]
    },
    {
      "cell_type": "code",
      "source": [
        "width = 20\n",
        "print('HackerRank'.ljust(width,'-'))"
      ],
      "metadata": {
        "id": "VjFZIFI4N6hP",
        "colab": {
          "base_uri": "https://localhost:8080/"
        },
        "outputId": "d7d29eb0-e9c9-4ec7-a4a7-d7b682299d74"
      },
      "execution_count": null,
      "outputs": [
        {
          "output_type": "stream",
          "name": "stdout",
          "text": [
            "HackerRank----------\n"
          ]
        }
      ]
    },
    {
      "cell_type": "code",
      "source": [
        "'HackerRank'.center(width,'-')"
      ],
      "metadata": {
        "colab": {
          "base_uri": "https://localhost:8080/",
          "height": 36
        },
        "id": "J5FNZVzQz0er",
        "outputId": "8bab47ee-b855-4e91-bf09-8f9fa29074b8"
      },
      "execution_count": null,
      "outputs": [
        {
          "output_type": "execute_result",
          "data": {
            "text/plain": [
              "'-----HackerRank-----'"
            ],
            "application/vnd.google.colaboratory.intrinsic+json": {
              "type": "string"
            }
          },
          "metadata": {},
          "execution_count": 3
        }
      ]
    },
    {
      "cell_type": "code",
      "source": [
        "width = 20\n",
        "print('H'.center(width,' '))\n",
        "print('HH'.center(width,' '))\n",
        "print('HHH'.center(width,' '))\n",
        "print('HHHH'.center(width,' '))\n",
        "print('HHHHH'.center(width,' '))\n",
        "print('HHHHHH'.center(width,' '))"
      ],
      "metadata": {
        "colab": {
          "base_uri": "https://localhost:8080/"
        },
        "id": "ejtouYwHz0cH",
        "outputId": "6ea2e7f0-6a1e-48ec-887a-d0578398d03b"
      },
      "execution_count": null,
      "outputs": [
        {
          "output_type": "stream",
          "name": "stdout",
          "text": [
            "         H          \n",
            "         HH         \n",
            "        HHH         \n",
            "        HHHH        \n",
            "       HHHHH        \n",
            "       HHHHHH       \n"
          ]
        }
      ]
    },
    {
      "cell_type": "code",
      "source": [
        "def wrap(string, max_width):\n",
        "\n",
        "    return"
      ],
      "metadata": {
        "id": "3ftKw0xmz0Zg"
      },
      "execution_count": null,
      "outputs": []
    },
    {
      "cell_type": "code",
      "source": [
        "string='ABCDEFGHIJKLIMNOQRSTUVWXYZ'\n",
        "for i in range(0,len(string)):"
      ],
      "metadata": {
        "colab": {
          "base_uri": "https://localhost:8080/",
          "height": 106
        },
        "id": "FLbswrYU1j9k",
        "outputId": "5b49cb31-1f45-4449-ebb7-aa5346e8a7a0"
      },
      "execution_count": null,
      "outputs": [
        {
          "output_type": "error",
          "ename": "SyntaxError",
          "evalue": "incomplete input (<ipython-input-22-ffc5c0b0a2f7>, line 2)",
          "traceback": [
            "\u001b[0;36m  File \u001b[0;32m\"<ipython-input-22-ffc5c0b0a2f7>\"\u001b[0;36m, line \u001b[0;32m2\u001b[0m\n\u001b[0;31m    for i in range(0,len(string)):\u001b[0m\n\u001b[0m                                  ^\u001b[0m\n\u001b[0;31mSyntaxError\u001b[0m\u001b[0;31m:\u001b[0m incomplete input\n"
          ]
        }
      ]
    },
    {
      "cell_type": "code",
      "source": [
        "string='ABCDEFGHIJKLIMNOQRSTUVWXYZ'\n",
        "len(string)"
      ],
      "metadata": {
        "colab": {
          "base_uri": "https://localhost:8080/"
        },
        "id": "dSQMP-rk1uot",
        "outputId": "73bb50b9-ed61-48e5-bca0-f25f88b03273"
      },
      "execution_count": null,
      "outputs": [
        {
          "output_type": "execute_result",
          "data": {
            "text/plain": [
              "26"
            ]
          },
          "metadata": {},
          "execution_count": 38
        }
      ]
    },
    {
      "cell_type": "code",
      "source": [
        "temp=0\n",
        "temp2=4\n",
        "for i in range(0,len(string)):\n",
        "  print(string[temp:temp2])\n",
        "  temp+=4\n",
        "  temp2+=4"
      ],
      "metadata": {
        "colab": {
          "base_uri": "https://localhost:8080/"
        },
        "id": "HTqab_-r2TBj",
        "outputId": "c9fc4ab9-cd9b-44ad-a1e7-afb8d73ae38e"
      },
      "execution_count": null,
      "outputs": [
        {
          "output_type": "stream",
          "name": "stdout",
          "text": [
            "ABCD\n",
            "EFGH\n",
            "IJKL\n",
            "IMNO\n",
            "QRST\n",
            "UVWX\n",
            "YZ\n",
            "\n",
            "\n",
            "\n",
            "\n",
            "\n",
            "\n",
            "\n",
            "\n",
            "\n",
            "\n",
            "\n",
            "\n",
            "\n",
            "\n",
            "\n",
            "\n",
            "\n",
            "\n",
            "\n"
          ]
        }
      ]
    },
    {
      "cell_type": "code",
      "source": [
        "ABCD\n",
        "EFGH\n",
        "IJKL\n",
        "IMNO\n",
        "QRST\n",
        "UVWX\n",
        "YZ"
      ],
      "metadata": {
        "id": "JSYr7LjW2S-8"
      },
      "execution_count": null,
      "outputs": []
    },
    {
      "cell_type": "code",
      "source": [
        "def wrap(string, max_width):\n",
        "    temp=0\n",
        "    temp2=max_width\n",
        "    for i in range(0,len(string)):\n",
        "      print(string[temp:temp2])\n",
        "      temp+=4\n",
        "      temp2+=4\n",
        "    return string"
      ],
      "metadata": {
        "id": "0JwGOWsT2S5D"
      },
      "execution_count": null,
      "outputs": []
    },
    {
      "cell_type": "code",
      "source": [
        "wrap('ABCDEFGHIJKLIMNOQRSTUVWXYZ',4)"
      ],
      "metadata": {
        "colab": {
          "base_uri": "https://localhost:8080/",
          "height": 487
        },
        "id": "de0sO1FV27Wm",
        "outputId": "54289562-15af-48ef-f677-c1805a09e6f3"
      },
      "execution_count": null,
      "outputs": [
        {
          "output_type": "stream",
          "name": "stdout",
          "text": [
            "ABCD\n",
            "EFGH\n",
            "IJKL\n",
            "IMNO\n",
            "QRST\n",
            "UVWX\n",
            "YZ\n",
            "\n",
            "\n",
            "\n",
            "\n",
            "\n",
            "\n",
            "\n",
            "\n",
            "\n",
            "\n",
            "\n",
            "\n",
            "\n",
            "\n",
            "\n",
            "\n",
            "\n",
            "\n",
            "\n"
          ]
        },
        {
          "output_type": "execute_result",
          "data": {
            "text/plain": [
              "'ABCDEFGHIJKLIMNOQRSTUVWXYZ'"
            ],
            "application/vnd.google.colaboratory.intrinsic+json": {
              "type": "string"
            }
          },
          "metadata": {},
          "execution_count": 49
        }
      ]
    },
    {
      "cell_type": "code",
      "source": [
        "import textwrap\n",
        "def wrap(string, max_width):\n",
        "    return \"\\n\".join(textwrap.wrap(string, max_width))\n",
        "print(wrap(\"ABCDEFGHIJKLIMNOQRSTUVWXYZ\", 4))"
      ],
      "metadata": {
        "colab": {
          "base_uri": "https://localhost:8080/"
        },
        "id": "UgGPSjQa27T4",
        "outputId": "0dc1d017-3d52-42e8-d980-45fb22e83663"
      },
      "execution_count": null,
      "outputs": [
        {
          "output_type": "stream",
          "name": "stdout",
          "text": [
            "ABCD\n",
            "EFGH\n",
            "IJKL\n",
            "IMNO\n",
            "QRST\n",
            "UVWX\n",
            "YZ\n"
          ]
        }
      ]
    },
    {
      "cell_type": "code",
      "source": [
        "s='ABCDEFGHIJKLIMNOQRSTUVWXYZ'\n",
        "print(\" \".join(textwrap.wrap(s,4)))"
      ],
      "metadata": {
        "colab": {
          "base_uri": "https://localhost:8080/"
        },
        "id": "xkzgUhNo27RV",
        "outputId": "fb193892-a5ae-4512-a626-799ba45706ca"
      },
      "execution_count": null,
      "outputs": [
        {
          "output_type": "stream",
          "name": "stdout",
          "text": [
            "ABCD EFGH IJKL IMNO QRST UVWX YZ\n"
          ]
        }
      ]
    },
    {
      "cell_type": "code",
      "source": [
        "def wrap(string, max_width):\n",
        "    return \"\\n\".join(textwrap.wrap(string, max_width))\n",
        "print(wrap(\"ABCDEFGHIJKLIMNOQRSTUVWXYZ\", 4))"
      ],
      "metadata": {
        "colab": {
          "base_uri": "https://localhost:8080/"
        },
        "id": "FYk-tHGy27Oy",
        "outputId": "a9fc2cb2-6786-45cb-daf9-2a4cc9e1a716"
      },
      "execution_count": null,
      "outputs": [
        {
          "output_type": "stream",
          "name": "stdout",
          "text": [
            "ABCD\n",
            "EFGH\n",
            "IJKL\n",
            "IMNO\n",
            "QRST\n",
            "UVWX\n",
            "YZ\n"
          ]
        }
      ]
    },
    {
      "cell_type": "code",
      "source": [
        "'HackerRank'.center(width,'-')\n",
        "'HackerRank'.center(10,'-')"
      ],
      "metadata": {
        "colab": {
          "base_uri": "https://localhost:8080/",
          "height": 36
        },
        "id": "DuqIrOkt60ER",
        "outputId": "6f2e1fd6-7f37-4313-c084-9af2824deb97"
      },
      "execution_count": null,
      "outputs": [
        {
          "output_type": "execute_result",
          "data": {
            "text/plain": [
              "'HackerRank'"
            ],
            "application/vnd.google.colaboratory.intrinsic+json": {
              "type": "string"
            }
          },
          "metadata": {},
          "execution_count": 61
        }
      ]
    },
    {
      "cell_type": "code",
      "source": [
        "def solve(s):\n",
        "    return s"
      ],
      "metadata": {
        "id": "-0umUAO160Bl"
      },
      "execution_count": null,
      "outputs": []
    },
    {
      "cell_type": "code",
      "source": [
        "d='vackerrank'\n",
        "for i in d.split():\n",
        "  print(i.title())"
      ],
      "metadata": {
        "colab": {
          "base_uri": "https://localhost:8080/"
        },
        "id": "e63bva_S6z-d",
        "outputId": "b6eab2c6-6753-4437-fc6e-cdc189c3a85b"
      },
      "execution_count": null,
      "outputs": [
        {
          "output_type": "stream",
          "name": "stdout",
          "text": [
            "Vackerrank\n"
          ]
        }
      ]
    },
    {
      "cell_type": "code",
      "source": [
        "def solve(s):\n",
        "  return \" \".join(i.title() for i in s.split(' '))"
      ],
      "metadata": {
        "id": "ESevAsO76z5v"
      },
      "execution_count": null,
      "outputs": []
    },
    {
      "cell_type": "code",
      "source": [
        "solve('1 W 2 R 3g')"
      ],
      "metadata": {
        "colab": {
          "base_uri": "https://localhost:8080/",
          "height": 36
        },
        "id": "LcG1tydf6z3f",
        "outputId": "cf1eb3fc-88e2-4899-e7b1-8aa5d49f30b7"
      },
      "execution_count": null,
      "outputs": [
        {
          "output_type": "execute_result",
          "data": {
            "text/plain": [
              "'1 W 2 R 3G'"
            ],
            "application/vnd.google.colaboratory.intrinsic+json": {
              "type": "string"
            }
          },
          "metadata": {},
          "execution_count": 90
        }
      ]
    },
    {
      "cell_type": "code",
      "source": [],
      "metadata": {
        "id": "TUtku5Zd_8K2"
      },
      "execution_count": null,
      "outputs": []
    },
    {
      "cell_type": "code",
      "source": [
        "return ' '.join(word.capitalize() for word in s.split(' '))"
      ],
      "metadata": {
        "id": "7jZa1JJB8b6w"
      },
      "execution_count": null,
      "outputs": []
    },
    {
      "cell_type": "code",
      "source": [
        "return ' '.join(word if word.isdigit() else word.capitalize() for word in s.split(' '))"
      ],
      "metadata": {
        "id": "CNIH5aFn9RAT"
      },
      "execution_count": null,
      "outputs": []
    },
    {
      "cell_type": "code",
      "source": [
        "s = \"hello   world  lol\"\n",
        "s.split(' ')"
      ],
      "metadata": {
        "colab": {
          "base_uri": "https://localhost:8080/"
        },
        "id": "_LpGeujx9Q9y",
        "outputId": "6ab92ee9-520e-4b79-ba98-5d8b231beb73"
      },
      "execution_count": null,
      "outputs": [
        {
          "output_type": "execute_result",
          "data": {
            "text/plain": [
              "['hello', '', '', 'world', '', 'lol']"
            ]
          },
          "metadata": {},
          "execution_count": 91
        }
      ]
    },
    {
      "cell_type": "code",
      "source": [
        "s = \"hello   world  lol\"\n",
        "s.split()"
      ],
      "metadata": {
        "colab": {
          "base_uri": "https://localhost:8080/"
        },
        "id": "4hX6aVpK9Q7L",
        "outputId": "ad1c9f16-beea-4a4a-9722-43ad9f6f0199"
      },
      "execution_count": null,
      "outputs": [
        {
          "output_type": "execute_result",
          "data": {
            "text/plain": [
              "['hello', 'world', 'lol']"
            ]
          },
          "metadata": {},
          "execution_count": 92
        }
      ]
    },
    {
      "cell_type": "code",
      "source": [
        "from collections import Counter\n",
        "myList = 'samiksha'\n",
        "b=(Counter(myList))\n",
        "b.values()"
      ],
      "metadata": {
        "colab": {
          "base_uri": "https://localhost:8080/"
        },
        "id": "snP_Y0Av_1VU",
        "outputId": "3af83477-0b7e-4b59-9eab-846b07d1a2a4"
      },
      "execution_count": null,
      "outputs": [
        {
          "output_type": "execute_result",
          "data": {
            "text/plain": [
              "dict_values([2, 2, 1, 1, 1, 1])"
            ]
          },
          "metadata": {},
          "execution_count": 105
        }
      ]
    },
    {
      "cell_type": "code",
      "source": [
        "The first line contains , the number of shoes.\n",
        "The second line contains the space separated list of all the shoe sizes in the shop.\n",
        "The third line contains , the number of customers.\n",
        "The next  lines contain the space separated values of the  desired by the customer and , the price of the shoe"
      ],
      "metadata": {
        "colab": {
          "base_uri": "https://localhost:8080/"
        },
        "collapsed": true,
        "id": "c180rDVgEtO6",
        "outputId": "057417cb-84c9-45a7-93a2-e3e2a9a1b778"
      },
      "execution_count": null,
      "outputs": [
        {
          "output_type": "execute_result",
          "data": {
            "text/plain": [
              "Counter({'s': 2, 'a': 2, 'm': 1, 'i': 1, 'k': 1, 'h': 1})"
            ]
          },
          "metadata": {},
          "execution_count": 103
        }
      ]
    },
    {
      "cell_type": "code",
      "source": [
        "3\n",
        "9,9,8\n",
        "9 9 9 7\n",
        "50 50 0 0"
      ],
      "metadata": {
        "id": "Um8iZYKYRUaw"
      },
      "execution_count": null,
      "outputs": []
    },
    {
      "cell_type": "code",
      "source": [
        "n_shoes=3\n",
        "n_size=[9,9,8]\n",
        "n_cust=4\n"
      ],
      "metadata": {
        "id": "TqJLFKsSR898"
      },
      "execution_count": null,
      "outputs": []
    },
    {
      "cell_type": "code",
      "source": [
        "Print the amount of money earned by.\n",
        "10\n",
        "2 3 4 5 6 8 7 6 5 18\n",
        "6\n",
        "6 55\n",
        "6 45\n",
        "6 55\n",
        "4 40\n",
        "18 60\n",
        "10 50\n",
        ">>>200"
      ],
      "metadata": {
        "id": "UU-H9IelFILk"
      },
      "execution_count": null,
      "outputs": []
    },
    {
      "cell_type": "code",
      "source": [
        "Customer 1: Purchased size 6 shoe for $55.\n",
        "Customer 2: Purchased size 6 shoe for $45.\n",
        "Customer 3: Size 6 no longer available, so no purchase.\n",
        "Customer 4: Purchased size 4 shoe for $40.\n",
        "Customer 5: Purchased size 18 shoe for $60.\n",
        "Customer 6: Size 10 not available, so no purchase.\n",
        "Total money earned =  xxx"
      ],
      "metadata": {
        "id": "m0EQ4LOJFlrs"
      },
      "execution_count": null,
      "outputs": []
    },
    {
      "cell_type": "code",
      "source": [
        "number_of_shoes=int(input())\n",
        "shoe_sizes=list(input().split())\n",
        "number_of_customers=int(input())\n",
        "v=[]\n",
        "for j in range(number_of_customers):\n",
        "  size,price=input().split()\n",
        "  if size not in shoe_sizes:\n",
        "    continue\n",
        "  v.append((size,price))\n",
        "v"
      ],
      "metadata": {
        "colab": {
          "base_uri": "https://localhost:8080/"
        },
        "id": "bOj966C9FuFc",
        "outputId": "995ef457-913c-4438-9c5f-1c36f4c5d5b5"
      },
      "execution_count": null,
      "outputs": [
        {
          "name": "stdout",
          "output_type": "stream",
          "text": [
            "2\n",
            "1 2 3 4 5\n",
            "3\n",
            "2 34\n",
            "6 11\n",
            "3 44\n"
          ]
        },
        {
          "output_type": "execute_result",
          "data": {
            "text/plain": [
              "[('2', '34'), ('3', '44')]"
            ]
          },
          "metadata": {},
          "execution_count": 158
        }
      ]
    },
    {
      "cell_type": "code",
      "source": [
        "shoe_sizes=list(input().split())"
      ],
      "metadata": {
        "colab": {
          "base_uri": "https://localhost:8080/"
        },
        "id": "XMNfVqIVNlp1",
        "outputId": "a82b222e-a0fa-4da9-e292-0cec6f3b9f56"
      },
      "execution_count": null,
      "outputs": [
        {
          "name": "stdout",
          "output_type": "stream",
          "text": [
            "1 2 3 4\n"
          ]
        }
      ]
    },
    {
      "cell_type": "code",
      "source": [
        "dict([('2', '34'), ('3', '44'), ('2', '22')])"
      ],
      "metadata": {
        "colab": {
          "base_uri": "https://localhost:8080/"
        },
        "id": "3FrtTpn5O4lL",
        "outputId": "3295b2da-a9d3-4225-8538-b5455cab5c0e"
      },
      "execution_count": null,
      "outputs": [
        {
          "output_type": "execute_result",
          "data": {
            "text/plain": [
              "{'2': '22', '3': '44'}"
            ]
          },
          "metadata": {},
          "execution_count": 160
        }
      ]
    },
    {
      "cell_type": "code",
      "source": [
        "from collections import Counter\n",
        "myList = [1,1,2,3,4,5,3,2,3,4,2,1,2,3]\n",
        "print Counter(myList)\n",
        "Counter({2: 4, 3: 4, 1: 3, 4: 2, 5: 1})\n",
        "print Counter(myList).items()\n",
        "[(1, 3), (2, 4), (3, 4), (4, 2), (5, 1)]\n",
        "print Counter(myList).keys()\n",
        "[1, 2, 3, 4, 5]\n",
        "print Counter(myList).values()\n",
        "[3, 4, 4, 2, 1]"
      ],
      "metadata": {
        "id": "1BHxBpJgO4hn"
      },
      "execution_count": null,
      "outputs": []
    },
    {
      "cell_type": "code",
      "source": [
        "from collections import Counter\n",
        "myList = [('10','20'),('10','10'),('30','40')]\n",
        "Counter(myList)"
      ],
      "metadata": {
        "colab": {
          "base_uri": "https://localhost:8080/"
        },
        "id": "LePqXLOqO4fE",
        "outputId": "38433fa4-c94b-462f-bd10-b3f8e2bc3c5b"
      },
      "execution_count": null,
      "outputs": [
        {
          "output_type": "execute_result",
          "data": {
            "text/plain": [
              "Counter({('10', '20'): 1, ('10', '10'): 1, ('30', '40'): 1})"
            ]
          },
          "metadata": {},
          "execution_count": 164
        }
      ]
    },
    {
      "cell_type": "code",
      "source": [
        "Counter(myList).items()"
      ],
      "metadata": {
        "colab": {
          "base_uri": "https://localhost:8080/"
        },
        "id": "2wYSwJRxQF-x",
        "outputId": "3cb3a72f-99b5-4880-f1ab-d470c7e9a885"
      },
      "execution_count": null,
      "outputs": [
        {
          "output_type": "execute_result",
          "data": {
            "text/plain": [
              "dict_items([(('10', '20'), 1), (('10', '10'), 1), (('30', '40'), 1)])"
            ]
          },
          "metadata": {},
          "execution_count": 165
        }
      ]
    },
    {
      "cell_type": "code",
      "source": [
        "Counter(myList).keys()"
      ],
      "metadata": {
        "colab": {
          "base_uri": "https://localhost:8080/"
        },
        "id": "rTLCa5UrQF8S",
        "outputId": "28982d2e-fffe-4bf6-e955-e02771ca2c08"
      },
      "execution_count": null,
      "outputs": [
        {
          "output_type": "execute_result",
          "data": {
            "text/plain": [
              "dict_keys([('10', '20'), ('10', '10'), ('30', '40')])"
            ]
          },
          "metadata": {},
          "execution_count": 167
        }
      ]
    },
    {
      "cell_type": "code",
      "source": [
        "Counter(myList).values()"
      ],
      "metadata": {
        "colab": {
          "base_uri": "https://localhost:8080/"
        },
        "id": "uwzMDQapUzmu",
        "outputId": "e20aae1c-6931-45f8-e8fa-308bdc084fcf"
      },
      "execution_count": null,
      "outputs": [
        {
          "output_type": "execute_result",
          "data": {
            "text/plain": [
              "dict_values([1, 1, 1])"
            ]
          },
          "metadata": {},
          "execution_count": 168
        }
      ]
    },
    {
      "cell_type": "code",
      "source": [
        "x = int(input())  #no of sizes\n",
        "y = Counter(map(int, input().split()))   # sizes\n",
        "z = int(input())  #custs\n",
        "total = 0\n",
        "\n",
        "for i in range(z):\n",
        "    size, rate = map(int, input().split())\n",
        "    if y[size]:\n",
        "      y[size] -= 1\n",
        "      total += rate\n",
        "print(total)"
      ],
      "metadata": {
        "colab": {
          "base_uri": "https://localhost:8080/"
        },
        "id": "Wsm0ZK2KUz7S",
        "outputId": "6d9ef81d-8f02-4dc0-98de-f203da7f636e"
      },
      "execution_count": null,
      "outputs": [
        {
          "output_type": "stream",
          "name": "stdout",
          "text": [
            "10\n",
            "1 2 3 4 5 6 7 8 9 10\n",
            "3\n",
            "2 20\n",
            "11 30\n",
            "3 40\n",
            "60\n"
          ]
        }
      ]
    },
    {
      "cell_type": "code",
      "source": [
        "y = Counter(map(int, input().split()))"
      ],
      "metadata": {
        "colab": {
          "base_uri": "https://localhost:8080/"
        },
        "id": "O7O4qU2RVF8b",
        "outputId": "d0a80645-226d-48ae-ae9e-6f06c6c60820"
      },
      "execution_count": null,
      "outputs": [
        {
          "name": "stdout",
          "output_type": "stream",
          "text": [
            "12 2 3 4 2 1 3\n"
          ]
        }
      ]
    },
    {
      "cell_type": "code",
      "source": [
        "y[3]-=1"
      ],
      "metadata": {
        "id": "vn_jRGymVNg-"
      },
      "execution_count": null,
      "outputs": []
    },
    {
      "cell_type": "code",
      "source": [
        "y"
      ],
      "metadata": {
        "colab": {
          "base_uri": "https://localhost:8080/"
        },
        "id": "VCp6GQCiVNd4",
        "outputId": "c3385e51-1434-4b72-ba73-2ad0a804baba"
      },
      "execution_count": null,
      "outputs": [
        {
          "output_type": "execute_result",
          "data": {
            "text/plain": [
              "Counter({12: 1, 2: 1, 3: 1, 4: 1, 1: 1})"
            ]
          },
          "metadata": {},
          "execution_count": 184
        }
      ]
    },
    {
      "cell_type": "code",
      "source": [
        "Counter([1,2,3,4,3,1,4])"
      ],
      "metadata": {
        "colab": {
          "base_uri": "https://localhost:8080/"
        },
        "id": "msoXxOfyVNbG",
        "outputId": "b7af9034-b485-45d6-eb32-5f8e1288b1f3"
      },
      "execution_count": null,
      "outputs": [
        {
          "output_type": "execute_result",
          "data": {
            "text/plain": [
              "Counter({1: 2, 2: 1, 3: 2, 4: 2})"
            ]
          },
          "metadata": {},
          "execution_count": 188
        }
      ]
    },
    {
      "cell_type": "code",
      "source": [
        "y = Counter(map(int, input().split()))"
      ],
      "metadata": {
        "colab": {
          "base_uri": "https://localhost:8080/"
        },
        "id": "qGRxY85jVNYO",
        "outputId": "2b60f6a1-a2f6-46ef-81ce-eac67b353447"
      },
      "execution_count": null,
      "outputs": [
        {
          "name": "stdout",
          "output_type": "stream",
          "text": [
            "3 \n"
          ]
        }
      ]
    },
    {
      "cell_type": "code",
      "source": [
        "y"
      ],
      "metadata": {
        "colab": {
          "base_uri": "https://localhost:8080/"
        },
        "id": "c4tvXxvrVNTY",
        "outputId": "94ceecb8-a07c-45dc-97d7-0e6c509899af"
      },
      "execution_count": null,
      "outputs": [
        {
          "output_type": "execute_result",
          "data": {
            "text/plain": [
              "[1, 2, 3]"
            ]
          },
          "metadata": {},
          "execution_count": 193
        }
      ]
    },
    {
      "cell_type": "code",
      "source": [
        "The first line contains , the number of shoes.\n",
        "The second line contains the space separated list of all the shoe sizes in the shop.\n",
        "The third line contains , the number of customers.\n",
        "The next  lines contain the space separated values of the  desired by the customer and , the price of the shoe"
      ],
      "metadata": {
        "id": "Zd52o2_2ZXI1"
      },
      "execution_count": null,
      "outputs": []
    },
    {
      "cell_type": "code",
      "source": [
        "n_shoes=int(input())\n",
        "y= Counter(map(int, input().split()))\n",
        "n_cust=int(input())\n",
        "for i in range(n_cust):\n",
        "  size,price=map(int, input().split())\n",
        "  print(y[size])"
      ],
      "metadata": {
        "colab": {
          "base_uri": "https://localhost:8080/"
        },
        "id": "I_tMFxFLZlex",
        "outputId": "c2a40d09-d159-4d6b-97e7-60bb862b5bee"
      },
      "execution_count": null,
      "outputs": [
        {
          "output_type": "stream",
          "name": "stdout",
          "text": [
            "3\n",
            "1 2 3\n",
            "3\n",
            "1 20\n",
            "1\n",
            "2 30\n",
            "1\n",
            "3 30\n",
            "1\n"
          ]
        }
      ]
    },
    {
      "cell_type": "code",
      "source": [
        "y"
      ],
      "metadata": {
        "colab": {
          "base_uri": "https://localhost:8080/"
        },
        "id": "8bcIciyJaEAo",
        "outputId": "ea33b5a5-5762-4ad7-f5ca-27b0ab575625"
      },
      "execution_count": null,
      "outputs": [
        {
          "output_type": "execute_result",
          "data": {
            "text/plain": [
              "Counter({1: 1, 2: 1, 3: 1})"
            ]
          },
          "metadata": {},
          "execution_count": 203
        }
      ]
    },
    {
      "cell_type": "code",
      "source": [
        "size"
      ],
      "metadata": {
        "colab": {
          "base_uri": "https://localhost:8080/"
        },
        "id": "YYiL1toXaD-J",
        "outputId": "98bb08cf-fdef-4dc5-ca85-a6cb7b5a16e4"
      },
      "execution_count": null,
      "outputs": [
        {
          "output_type": "execute_result",
          "data": {
            "text/plain": [
              "10"
            ]
          },
          "metadata": {},
          "execution_count": 197
        }
      ]
    },
    {
      "cell_type": "code",
      "source": [
        "price"
      ],
      "metadata": {
        "colab": {
          "base_uri": "https://localhost:8080/"
        },
        "id": "nYzJP3LLaQr9",
        "outputId": "5ea2c3c2-b2c4-475c-8e2c-d78e50735b48"
      },
      "execution_count": null,
      "outputs": [
        {
          "output_type": "execute_result",
          "data": {
            "text/plain": [
              "4"
            ]
          },
          "metadata": {},
          "execution_count": 199
        }
      ]
    },
    {
      "cell_type": "code",
      "source": [
        "Shoes_n = 3\n",
        "Size = [8,8,7]\n",
        "Cust_n = 4\n",
        "Earning = 0\n",
        "for customer in range(Cust_n):\n",
        "  custmerwantsize = input()\n",
        "  custimerpayingproceforit = input()\n",
        "  if custmerwantsize in Size :\n",
        "    Size.remove(custmerwantsize)\n",
        "    Earning  += custimerpayingproceforit\n",
        "  else :\n",
        "   Earning +=0\n",
        "Earning"
      ],
      "metadata": {
        "id": "BXo1nXl-aRgY",
        "colab": {
          "base_uri": "https://localhost:8080/"
        },
        "collapsed": true,
        "outputId": "5967d757-cb84-4b42-f17d-53be58b0b912"
      },
      "execution_count": null,
      "outputs": [
        {
          "name": "stdout",
          "output_type": "stream",
          "text": [
            "2\n",
            "22\n",
            "8\n",
            "33\n",
            "8\n",
            "33\n",
            "7\n",
            "22\n"
          ]
        },
        {
          "output_type": "execute_result",
          "data": {
            "text/plain": [
              "0"
            ]
          },
          "metadata": {},
          "execution_count": 7
        }
      ]
    },
    {
      "cell_type": "code",
      "source": [
        "Shoes_n = 3\n",
        "Size = [8, 8, 7]\n",
        "Cust_n = 4\n",
        "Earning = 0\n",
        "\n",
        "for customer in range(Cust_n):\n",
        "    customer_want_size = int(input())  # Convert input to int\n",
        "    customer_paying_price = int(input())  # Convert input to int\n",
        "\n",
        "    if customer_want_size in Size:\n",
        "        Size.remove(customer_want_size)  # Use remove instead of pop for specific value\n",
        "        Earning += customer_paying_price\n",
        "\n",
        "print(Earning)  # Print final earnings"
      ],
      "metadata": {
        "colab": {
          "base_uri": "https://localhost:8080/"
        },
        "id": "_Yf3lShe-SQV",
        "outputId": "fb64a346-7327-4ca7-b20f-be2f091d7009"
      },
      "execution_count": null,
      "outputs": [
        {
          "output_type": "stream",
          "name": "stdout",
          "text": [
            "2\n",
            "33\n",
            "8\n",
            "22\n",
            "8\n",
            "11\n",
            "7\n",
            "43\n",
            "76\n"
          ]
        }
      ]
    },
    {
      "cell_type": "code",
      "source": [
        "from itertools import product\n",
        "list(product([1,2,3],repeat = 2))"
      ],
      "metadata": {
        "colab": {
          "base_uri": "https://localhost:8080/"
        },
        "id": "_3XTyRh6_tNN",
        "outputId": "3105cfc1-cacc-4465-f661-012ee25c9960"
      },
      "execution_count": null,
      "outputs": [
        {
          "output_type": "execute_result",
          "data": {
            "text/plain": [
              "[(1, 1), (1, 2), (1, 3), (2, 1), (2, 2), (2, 3), (3, 1), (3, 2), (3, 3)]"
            ]
          },
          "metadata": {},
          "execution_count": 16
        }
      ]
    },
    {
      "cell_type": "code",
      "source": [
        "c=[[1,2,3],[3,4]]\n",
        "list(product([1,2,3],[3,4]))"
      ],
      "metadata": {
        "colab": {
          "base_uri": "https://localhost:8080/"
        },
        "id": "HXrqQkpc_tJ9",
        "outputId": "830e436f-37d3-4924-95ce-73e0bcb9585c"
      },
      "execution_count": null,
      "outputs": [
        {
          "output_type": "execute_result",
          "data": {
            "text/plain": [
              "[(1, 3), (1, 4), (2, 3), (2, 4), (3, 3), (3, 4)]"
            ]
          },
          "metadata": {},
          "execution_count": 19
        }
      ]
    },
    {
      "cell_type": "code",
      "source": [
        "list(product(*c))"
      ],
      "metadata": {
        "colab": {
          "base_uri": "https://localhost:8080/"
        },
        "id": "f1i7LogBArxs",
        "outputId": "569a9e29-57f1-4848-acac-fcfbdc699d6d"
      },
      "execution_count": null,
      "outputs": [
        {
          "output_type": "execute_result",
          "data": {
            "text/plain": [
              "[(1, 3), (1, 4), (2, 3), (2, 4), (3, 3), (3, 4)]"
            ]
          },
          "metadata": {},
          "execution_count": 20
        }
      ]
    },
    {
      "cell_type": "code",
      "source": [
        "A = [[1,2,3],[3,4,5]]\n",
        "list(product(*A))"
      ],
      "metadata": {
        "colab": {
          "base_uri": "https://localhost:8080/"
        },
        "id": "0IIMpfgE_tHt",
        "outputId": "71c69677-b140-4703-f6c5-19df0b34680e"
      },
      "execution_count": null,
      "outputs": [
        {
          "output_type": "execute_result",
          "data": {
            "text/plain": [
              "[(1, 3), (1, 4), (1, 5), (2, 3), (2, 4), (2, 5), (3, 3), (3, 4), (3, 5)]"
            ]
          },
          "metadata": {},
          "execution_count": 12
        }
      ]
    },
    {
      "cell_type": "code",
      "source": [
        "B = [[1,2,3],[3,4,5],[7,8]]\n",
        "list(product(*B))"
      ],
      "metadata": {
        "colab": {
          "base_uri": "https://localhost:8080/"
        },
        "id": "HBrgaNPE_tFW",
        "outputId": "0c2ebdd2-e21d-4ce9-f740-cb9880103f7c"
      },
      "execution_count": null,
      "outputs": [
        {
          "output_type": "execute_result",
          "data": {
            "text/plain": [
              "[(1, 3, 7),\n",
              " (1, 3, 8),\n",
              " (1, 4, 7),\n",
              " (1, 4, 8),\n",
              " (1, 5, 7),\n",
              " (1, 5, 8),\n",
              " (2, 3, 7),\n",
              " (2, 3, 8),\n",
              " (2, 4, 7),\n",
              " (2, 4, 8),\n",
              " (2, 5, 7),\n",
              " (2, 5, 8),\n",
              " (3, 3, 7),\n",
              " (3, 3, 8),\n",
              " (3, 4, 7),\n",
              " (3, 4, 8),\n",
              " (3, 5, 7),\n",
              " (3, 5, 8)]"
            ]
          },
          "metadata": {},
          "execution_count": 11
        }
      ]
    },
    {
      "cell_type": "code",
      "source": [
        "A = [1, 2]\n",
        "B = [3, 4]"
      ],
      "metadata": {
        "id": "294ZfYfY_66x"
      },
      "execution_count": null,
      "outputs": []
    },
    {
      "cell_type": "code",
      "source": [
        "AxB = [(1, 3), (1, 4), (2, 3), (2, 4)]"
      ],
      "metadata": {
        "id": "lgVJ3mUZ_62w"
      },
      "execution_count": null,
      "outputs": []
    },
    {
      "cell_type": "code",
      "source": [
        "from itertools import product"
      ],
      "metadata": {
        "id": "qV7RmGZ__60F"
      },
      "execution_count": null,
      "outputs": []
    },
    {
      "cell_type": "code",
      "source": [
        "A = input().split()\n",
        "B = [3, 4]\n",
        "AxB= list(product(A,B))"
      ],
      "metadata": {
        "id": "UlXVkjpZBDPn"
      },
      "execution_count": null,
      "outputs": []
    },
    {
      "cell_type": "code",
      "source": [
        "AxB"
      ],
      "metadata": {
        "colab": {
          "base_uri": "https://localhost:8080/"
        },
        "id": "3UoGslnOBIdd",
        "outputId": "d61af844-5938-47b2-b9a8-fb1fb68510df"
      },
      "execution_count": null,
      "outputs": [
        {
          "output_type": "execute_result",
          "data": {
            "text/plain": [
              "[(1, 3), (1, 4), (2, 3), (2, 4)]"
            ]
          },
          "metadata": {},
          "execution_count": 29
        }
      ]
    },
    {
      "cell_type": "code",
      "source": [
        "tuple(AxB)"
      ],
      "metadata": {
        "colab": {
          "base_uri": "https://localhost:8080/"
        },
        "id": "pLMAq-bIBvFX",
        "outputId": "06fa9bcb-156e-4684-d842-b322b46fdc91"
      },
      "execution_count": null,
      "outputs": [
        {
          "output_type": "execute_result",
          "data": {
            "text/plain": [
              "((1, 3), (1, 4), (2, 3), (2, 4))"
            ]
          },
          "metadata": {},
          "execution_count": 31
        }
      ]
    },
    {
      "cell_type": "code",
      "source": [
        "D=list(product([1],[3,2]))"
      ],
      "metadata": {
        "id": "vmCyfB9yB5ws"
      },
      "execution_count": null,
      "outputs": []
    },
    {
      "cell_type": "code",
      "source": [
        "D"
      ],
      "metadata": {
        "colab": {
          "base_uri": "https://localhost:8080/"
        },
        "id": "L8e39f5CCJxj",
        "outputId": "3f80050a-6a50-4677-e739-fbcdcbf8c8aa"
      },
      "execution_count": null,
      "outputs": [
        {
          "output_type": "execute_result",
          "data": {
            "text/plain": [
              "[(1, 3), (1, 2)]"
            ]
          },
          "metadata": {},
          "execution_count": 41
        }
      ]
    },
    {
      "cell_type": "code",
      "source": [
        "(1, 3) (1, 4) (2, 3) (2, 4)"
      ],
      "metadata": {
        "colab": {
          "base_uri": "https://localhost:8080/",
          "height": 211
        },
        "collapsed": true,
        "id": "oZBnqZ2XDuqa",
        "outputId": "14694760-1ca9-4974-a6a4-b4e89452322e"
      },
      "execution_count": null,
      "outputs": [
        {
          "output_type": "stream",
          "name": "stderr",
          "text": [
            "<>:1: SyntaxWarning: 'tuple' object is not callable; perhaps you missed a comma?\n",
            "<>:1: SyntaxWarning: 'tuple' object is not callable; perhaps you missed a comma?\n",
            "<ipython-input-47-22177aee8e4e>:1: SyntaxWarning: 'tuple' object is not callable; perhaps you missed a comma?\n",
            "  (1, 3) (1, 4) (2, 3) (2, 4)\n"
          ]
        },
        {
          "output_type": "error",
          "ename": "TypeError",
          "evalue": "'tuple' object is not callable",
          "traceback": [
            "\u001b[0;31m---------------------------------------------------------------------------\u001b[0m",
            "\u001b[0;31mTypeError\u001b[0m                                 Traceback (most recent call last)",
            "\u001b[0;32m<ipython-input-47-22177aee8e4e>\u001b[0m in \u001b[0;36m<cell line: 0>\u001b[0;34m()\u001b[0m\n\u001b[0;32m----> 1\u001b[0;31m \u001b[0;34m(\u001b[0m\u001b[0;36m1\u001b[0m\u001b[0;34m,\u001b[0m \u001b[0;36m3\u001b[0m\u001b[0;34m)\u001b[0m \u001b[0;34m(\u001b[0m\u001b[0;36m1\u001b[0m\u001b[0;34m,\u001b[0m \u001b[0;36m4\u001b[0m\u001b[0;34m)\u001b[0m \u001b[0;34m(\u001b[0m\u001b[0;36m2\u001b[0m\u001b[0;34m,\u001b[0m \u001b[0;36m3\u001b[0m\u001b[0;34m)\u001b[0m \u001b[0;34m(\u001b[0m\u001b[0;36m2\u001b[0m\u001b[0;34m,\u001b[0m \u001b[0;36m4\u001b[0m\u001b[0;34m)\u001b[0m\u001b[0;34m\u001b[0m\u001b[0;34m\u001b[0m\u001b[0m\n\u001b[0m",
            "\u001b[0;31mTypeError\u001b[0m: 'tuple' object is not callable"
          ]
        }
      ]
    },
    {
      "cell_type": "code",
      "source": [
        "A = [1, 2]\n",
        "B = [3, 4]\n",
        "c=''\n",
        "C= list(product(A,B))\n",
        "for i in range(len(C)):\n",
        "  c+=str(C[i])+' '\n",
        "str(c)"
      ],
      "metadata": {
        "colab": {
          "base_uri": "https://localhost:8080/",
          "height": 36
        },
        "id": "7BnEbSeKDwE1",
        "outputId": "6df3c3f3-a8f7-4dc7-c6bb-134814afb0e4"
      },
      "execution_count": null,
      "outputs": [
        {
          "output_type": "execute_result",
          "data": {
            "text/plain": [
              "'(1, 3) (1, 4) (2, 3) (2, 4) '"
            ],
            "application/vnd.google.colaboratory.intrinsic+json": {
              "type": "string"
            }
          },
          "metadata": {},
          "execution_count": 55
        }
      ]
    },
    {
      "cell_type": "code",
      "source": [
        "A = list(map(int, input().split()))\n",
        "B = list(map(int, input().split()))\n",
        "c=''\n",
        "C= list(product(A,B))\n",
        "for i in range(len(C)):\n",
        "    c+=str(C[i])+' '\n",
        "print(str(c))"
      ],
      "metadata": {
        "colab": {
          "base_uri": "https://localhost:8080/"
        },
        "id": "G97MjpthEAzo",
        "outputId": "a60e5377-2491-4632-d3c6-a4e8369b99a6"
      },
      "execution_count": null,
      "outputs": [
        {
          "output_type": "stream",
          "name": "stdout",
          "text": [
            "1 2\n",
            "3 4\n",
            "(1, 3) (1, 4) (2, 3) (2, 4) \n"
          ]
        }
      ]
    },
    {
      "cell_type": "code",
      "source": [
        "result = [(1, 3), (1, 4), (2, 3), (2, 4)]\n",
        "output = \" \".join(str(t) for t in result)\n",
        "output"
      ],
      "metadata": {
        "colab": {
          "base_uri": "https://localhost:8080/",
          "height": 36
        },
        "id": "f-jmZBg6E1fL",
        "outputId": "e38ee7eb-bc91-455e-98a7-8d7764105e09"
      },
      "execution_count": null,
      "outputs": [
        {
          "output_type": "execute_result",
          "data": {
            "text/plain": [
              "'(1, 3) (1, 4) (2, 3) (2, 4)'"
            ],
            "application/vnd.google.colaboratory.intrinsic+json": {
              "type": "string"
            }
          },
          "metadata": {},
          "execution_count": 59
        }
      ]
    },
    {
      "cell_type": "code",
      "source": [
        "list(permutations(['1','2','3']))"
      ],
      "metadata": {
        "colab": {
          "base_uri": "https://localhost:8080/"
        },
        "id": "jcLcnctSFyaA",
        "outputId": "5ad53d87-3d9c-4504-9f34-937bf5c8afd8"
      },
      "execution_count": null,
      "outputs": [
        {
          "output_type": "execute_result",
          "data": {
            "text/plain": [
              "[('1', '2', '3'),\n",
              " ('1', '3', '2'),\n",
              " ('2', '1', '3'),\n",
              " ('2', '3', '1'),\n",
              " ('3', '1', '2'),\n",
              " ('3', '2', '1')]"
            ]
          },
          "metadata": {},
          "execution_count": 61
        }
      ]
    },
    {
      "cell_type": "code",
      "source": [
        "list(permutations(['1','2','3'],3))"
      ],
      "metadata": {
        "colab": {
          "base_uri": "https://localhost:8080/"
        },
        "id": "y3e7aWnrFyVQ",
        "outputId": "ee6b1c71-f474-4a63-d6ac-8dd313e8f7e4"
      },
      "execution_count": null,
      "outputs": [
        {
          "output_type": "execute_result",
          "data": {
            "text/plain": [
              "[('1', '2', '3'),\n",
              " ('1', '3', '2'),\n",
              " ('2', '1', '3'),\n",
              " ('2', '3', '1'),\n",
              " ('3', '1', '2'),\n",
              " ('3', '2', '1')]"
            ]
          },
          "metadata": {},
          "execution_count": 64
        }
      ]
    },
    {
      "cell_type": "code",
      "source": [
        "list(permutations('abc',3))"
      ],
      "metadata": {
        "colab": {
          "base_uri": "https://localhost:8080/"
        },
        "id": "IuQYTHvRFySk",
        "outputId": "295055ec-9a89-4f38-9faf-0f0bd03f59f9"
      },
      "execution_count": null,
      "outputs": [
        {
          "output_type": "execute_result",
          "data": {
            "text/plain": [
              "[('a', 'b', 'c'),\n",
              " ('a', 'c', 'b'),\n",
              " ('b', 'a', 'c'),\n",
              " ('b', 'c', 'a'),\n",
              " ('c', 'a', 'b'),\n",
              " ('c', 'b', 'a')]"
            ]
          },
          "metadata": {},
          "execution_count": 65
        }
      ]
    },
    {
      "cell_type": "code",
      "source": [
        "string,integer=input().split()"
      ],
      "metadata": {
        "colab": {
          "base_uri": "https://localhost:8080/"
        },
        "id": "w3xj6FojGZsm",
        "outputId": "9672ad67-8db8-41f2-a19a-c93442cd5106"
      },
      "execution_count": null,
      "outputs": [
        {
          "name": "stdout",
          "output_type": "stream",
          "text": [
            "hack 2\n"
          ]
        }
      ]
    },
    {
      "cell_type": "code",
      "source": [
        "string=sorted(string.upper())\n",
        "integer=int(integer)\n",
        "integer"
      ],
      "metadata": {
        "colab": {
          "base_uri": "https://localhost:8080/"
        },
        "id": "91g1iLDXGZqF",
        "outputId": "b2fd64f7-0a2d-455f-923f-c71842257272"
      },
      "execution_count": null,
      "outputs": [
        {
          "output_type": "execute_result",
          "data": {
            "text/plain": [
              "2"
            ]
          },
          "metadata": {},
          "execution_count": 81
        }
      ]
    },
    {
      "cell_type": "code",
      "source": [
        "v=(list(permutations(string,integer)))"
      ],
      "metadata": {
        "id": "JanGCY-pJhuE"
      },
      "execution_count": null,
      "outputs": []
    },
    {
      "cell_type": "code",
      "source": [
        "v"
      ],
      "metadata": {
        "colab": {
          "base_uri": "https://localhost:8080/"
        },
        "id": "tG3FMkjLJjFE",
        "outputId": "6add44f4-771f-4572-9b33-b65220541318"
      },
      "execution_count": null,
      "outputs": [
        {
          "output_type": "execute_result",
          "data": {
            "text/plain": [
              "[('A', 'C'),\n",
              " ('A', 'H'),\n",
              " ('A', 'K'),\n",
              " ('C', 'A'),\n",
              " ('C', 'H'),\n",
              " ('C', 'K'),\n",
              " ('H', 'A'),\n",
              " ('H', 'C'),\n",
              " ('H', 'K'),\n",
              " ('K', 'A'),\n",
              " ('K', 'C'),\n",
              " ('K', 'H')]"
            ]
          },
          "metadata": {},
          "execution_count": 118
        }
      ]
    },
    {
      "cell_type": "code",
      "source": [
        "for i in v:\n",
        "  for j in i:\n",
        "    print(\"\".join(j for j in i))\n",
        "    break"
      ],
      "metadata": {
        "colab": {
          "base_uri": "https://localhost:8080/"
        },
        "id": "rZqQxSGAJnM8",
        "outputId": "78d6258c-9301-43c7-baae-aac7c3a70090"
      },
      "execution_count": null,
      "outputs": [
        {
          "output_type": "stream",
          "name": "stdout",
          "text": [
            "AC\n",
            "AH\n",
            "AK\n",
            "CA\n",
            "CH\n",
            "CK\n",
            "HA\n",
            "HC\n",
            "HK\n",
            "KA\n",
            "KC\n",
            "KH\n"
          ]
        }
      ]
    },
    {
      "cell_type": "code",
      "source": [
        "set('HackerRank')"
      ],
      "metadata": {
        "colab": {
          "base_uri": "https://localhost:8080/"
        },
        "id": "7HFxGWAzIjr8",
        "outputId": "7fcb117f-00bf-4f4b-cef5-96ba243a76a8"
      },
      "execution_count": null,
      "outputs": [
        {
          "output_type": "execute_result",
          "data": {
            "text/plain": [
              "{'H', 'R', 'a', 'c', 'e', 'k', 'n', 'r'}"
            ]
          },
          "metadata": {},
          "execution_count": 151
        }
      ]
    },
    {
      "cell_type": "code",
      "source": [
        "set([1,2,1,2,3,4,5,6,0,9,12,22,3])"
      ],
      "metadata": {
        "colab": {
          "base_uri": "https://localhost:8080/"
        },
        "id": "iDxGTO2eJJOC",
        "outputId": "d786ee7f-11e6-42cd-b5dd-058757459d2c"
      },
      "execution_count": null,
      "outputs": [
        {
          "output_type": "execute_result",
          "data": {
            "text/plain": [
              "{0, 1, 2, 3, 4, 5, 6, 9, 12, 22}"
            ]
          },
          "metadata": {},
          "execution_count": 152
        }
      ]
    },
    {
      "cell_type": "code",
      "source": [
        "set((1,2,3,4,5,5))"
      ],
      "metadata": {
        "colab": {
          "base_uri": "https://localhost:8080/"
        },
        "id": "-SMKj1riNf7Z",
        "outputId": "3a00c0f2-e00c-447a-fc3a-c3fdb1de9dcb"
      },
      "execution_count": null,
      "outputs": [
        {
          "output_type": "execute_result",
          "data": {
            "text/plain": [
              "{1, 2, 3, 4, 5}"
            ]
          },
          "metadata": {},
          "execution_count": 153
        }
      ]
    },
    {
      "cell_type": "code",
      "source": [
        "set(set(['H','a','c','k','e','r','r','a','n','k']))"
      ],
      "metadata": {
        "colab": {
          "base_uri": "https://localhost:8080/"
        },
        "id": "44c_ArzrNf4t",
        "outputId": "1d766543-a81d-4f98-a527-382fa87f49e5"
      },
      "execution_count": null,
      "outputs": [
        {
          "output_type": "execute_result",
          "data": {
            "text/plain": [
              "{'H', 'a', 'c', 'e', 'k', 'n', 'r'}"
            ]
          },
          "metadata": {},
          "execution_count": 154
        }
      ]
    },
    {
      "cell_type": "code",
      "source": [
        "set({'Hacker' : 'DOSHI', 'Rank' : 616 })"
      ],
      "metadata": {
        "colab": {
          "base_uri": "https://localhost:8080/"
        },
        "id": "E5NYjr0YNf17",
        "outputId": "c584c823-4866-4449-d5dd-b84012079928"
      },
      "execution_count": null,
      "outputs": [
        {
          "output_type": "execute_result",
          "data": {
            "text/plain": [
              "{'Hacker', 'Rank'}"
            ]
          },
          "metadata": {},
          "execution_count": 155
        }
      ]
    },
    {
      "cell_type": "code",
      "source": [
        "set(enumerate(['H','a','c','k','e','r','r','a','n','k']))"
      ],
      "metadata": {
        "colab": {
          "base_uri": "https://localhost:8080/"
        },
        "id": "8Ke2tIZJNqhL",
        "outputId": "16b47080-ec15-4227-9614-347f834f089a"
      },
      "execution_count": null,
      "outputs": [
        {
          "output_type": "execute_result",
          "data": {
            "text/plain": [
              "{(0, 'H'),\n",
              " (1, 'a'),\n",
              " (2, 'c'),\n",
              " (3, 'k'),\n",
              " (4, 'e'),\n",
              " (5, 'r'),\n",
              " (6, 'r'),\n",
              " (7, 'a'),\n",
              " (8, 'n'),\n",
              " (9, 'k')}"
            ]
          },
          "metadata": {},
          "execution_count": 156
        }
      ]
    },
    {
      "cell_type": "code",
      "source": [
        "s=list(map(int,input().split()))"
      ],
      "metadata": {
        "colab": {
          "base_uri": "https://localhost:8080/"
        },
        "id": "ZChxTpA4NqeN",
        "outputId": "55749ea5-4acf-47cf-a67b-53b268442972"
      },
      "execution_count": null,
      "outputs": [
        {
          "name": "stdout",
          "output_type": "stream",
          "text": [
            "1 2 3 4\n"
          ]
        }
      ]
    },
    {
      "cell_type": "code",
      "source": [
        "arr=int(input())\n",
        "s=list(map(int,input().split()))"
      ],
      "metadata": {
        "colab": {
          "base_uri": "https://localhost:8080/"
        },
        "id": "NGWupeFvNqbb",
        "outputId": "803ec54d-4315-4e7e-d4ff-048a14ff55fb"
      },
      "execution_count": null,
      "outputs": [
        {
          "name": "stdout",
          "output_type": "stream",
          "text": [
            "10\n",
            "161 182 161 154 176 170 167 171 170 174\n"
          ]
        }
      ]
    },
    {
      "cell_type": "code",
      "source": [
        "v=sum(s)/arr"
      ],
      "metadata": {
        "id": "TXYR1JuhNqYU"
      },
      "execution_count": null,
      "outputs": []
    },
    {
      "cell_type": "code",
      "source": [
        "v"
      ],
      "metadata": {
        "colab": {
          "base_uri": "https://localhost:8080/"
        },
        "id": "dRxhQ6nrONrO",
        "outputId": "8b00d0af-df08-42b4-f144-37d43cce767c"
      },
      "execution_count": null,
      "outputs": [
        {
          "output_type": "execute_result",
          "data": {
            "text/plain": [
              "168.6"
            ]
          },
          "metadata": {},
          "execution_count": 184
        }
      ]
    },
    {
      "cell_type": "code",
      "source": [
        "161 182 161 154 176 170 167 171 170 174"
      ],
      "metadata": {
        "id": "lzY9Nk5bPPSt"
      },
      "execution_count": null,
      "outputs": []
    },
    {
      "cell_type": "code",
      "source": [
        "def average(array):\n",
        "    s=list(map(int,input().split()))\n",
        "    v=sum(s)/array\n",
        "    return v\n",
        "average(10)"
      ],
      "metadata": {
        "colab": {
          "base_uri": "https://localhost:8080/"
        },
        "id": "r2YV-fhOP07k",
        "outputId": "4dbe390f-d9ce-42dc-98a9-d97c7cf54c58"
      },
      "execution_count": null,
      "outputs": [
        {
          "name": "stdout",
          "output_type": "stream",
          "text": [
            "161 182 161 154 176 170 167 171 170 174\n"
          ]
        },
        {
          "output_type": "execute_result",
          "data": {
            "text/plain": [
              "168.6"
            ]
          },
          "metadata": {},
          "execution_count": 187
        }
      ]
    },
    {
      "cell_type": "code",
      "source": [],
      "metadata": {
        "id": "FH8k8irYP3Ei"
      },
      "execution_count": null,
      "outputs": []
    }
  ]
}